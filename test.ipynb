{
 "cells": [
  {
   "cell_type": "code",
   "execution_count": 33,
   "metadata": {},
   "outputs": [],
   "source": [
    "import numpy as np\n",
    "import pandas as pd"
   ]
  },
  {
   "cell_type": "code",
   "execution_count": 34,
   "metadata": {},
   "outputs": [],
   "source": [
    "data1 = pd.read_csv('submission\\my_submission_.csv').values[:, 1:]\n",
    "data2 = pd.read_csv('submission\\submission_GRU.csv').values[:, 1:]\n",
    "data3 = pd.read_csv('submission\\submission_LSTM.csv').values[:, 1:]\n",
    "data4 = pd.read_csv('submission\\submission_RNN.csv').values[:, 1:]\n",
    "data5 = pd.read_csv('submission\\submission_test.csv').values[:, 1:]"
   ]
  },
  {
   "cell_type": "code",
   "execution_count": 40,
   "metadata": {},
   "outputs": [
    {
     "name": "stdout",
     "output_type": "stream",
     "text": [
      "191\n",
      "[5, 9, 4, 9, 5]\n",
      "440\n",
      "[5, 9, 4, 9, 1]\n",
      "603\n",
      "[5, 5, 6, 6, 1]\n",
      "1080\n",
      "[5, 4, 5, 9, 1]\n",
      "1272\n",
      "[5, 4, 4, 9, 1]\n",
      "1536\n",
      "[6, 1, 5, 3, 6]\n",
      "1879\n",
      "[5, 4, 1, 9, 1]\n",
      "2014\n",
      "[5, 1, 1, 3, 5]\n",
      "2852\n",
      "[5, 4, 4, 9, 1]\n",
      "3341\n",
      "[5, 4, 4, 9, 9]\n"
     ]
    }
   ],
   "source": [
    "ans = []\n",
    "for i in range(len(data1)):\n",
    "    num = []\n",
    "\n",
    "    num.append(int(data1[i]))\n",
    "    num.append(int(data2[i]))\n",
    "    num.append(int(data3[i]))\n",
    "    num.append(int(data4[i]))\n",
    "    num.append(int(data5[i]))\n",
    "    count_times = np.zeros(10)\n",
    "    for j in num :\n",
    "        count_times[j] += 1\n",
    "  \n",
    "    m = max(count_times)\n",
    "    n = list(count_times).index(m)\n",
    "    if m < 3:\n",
    "        print(i)\n",
    "        print(num)\n",
    "    ans.append(n)"
   ]
  },
  {
   "cell_type": "code",
   "execution_count": 36,
   "metadata": {},
   "outputs": [],
   "source": [
    "submission = pd.DataFrame({'Label': ans})\n",
    "submission.index += 1  # 調整索引從 1 開始\n",
    "submission.to_csv('submission/submission_testttt.csv', index_label='Serial No.')"
   ]
  }
 ],
 "metadata": {
  "kernelspec": {
   "display_name": "pytorch",
   "language": "python",
   "name": "python3"
  },
  "language_info": {
   "codemirror_mode": {
    "name": "ipython",
    "version": 3
   },
   "file_extension": ".py",
   "mimetype": "text/x-python",
   "name": "python",
   "nbconvert_exporter": "python",
   "pygments_lexer": "ipython3",
   "version": "3.9.16"
  },
  "orig_nbformat": 4
 },
 "nbformat": 4,
 "nbformat_minor": 2
}
