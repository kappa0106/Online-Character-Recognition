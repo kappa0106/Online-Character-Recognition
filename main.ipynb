{
 "cells": [
  {
   "cell_type": "code",
   "execution_count": 36,
   "metadata": {},
   "outputs": [],
   "source": [
    "import pandas as pd\n",
    "from collections import defaultdict\n",
    "import matplotlib.pyplot as plt\n",
    "import torch\n",
    "import torch.nn as nn\n",
    "from torch.optim.lr_scheduler import ReduceLROnPlateau\n",
    "from torch.utils.data import DataLoader, random_split\n",
    "from tqdm import tqdm\n",
    "from torchinfo import summary\n",
    "from torchview import draw_graph"
   ]
  },
  {
   "cell_type": "code",
   "execution_count": 37,
   "metadata": {},
   "outputs": [],
   "source": [
    "# Hyper Parameters\n",
    "BATCH_SIZE = 32\n",
    "LEARNING_RATE = 0.0002\n",
    "EPOCHS = 1000\n",
    "patience = 30\n",
    "input_size = 2\n",
    "hidden_size = 64\n",
    "num_layers = 3\n",
    "output_size = 10\n",
    "dropout_prob = 0.25"
   ]
  },
  {
   "cell_type": "code",
   "execution_count": 38,
   "metadata": {},
   "outputs": [],
   "source": [
    "device = torch.device('cuda' if torch.cuda.is_available() else 'cpu')"
   ]
  },
  {
   "attachments": {},
   "cell_type": "markdown",
   "metadata": {},
   "source": [
    "### Function"
   ]
  },
  {
   "cell_type": "code",
   "execution_count": 39,
   "metadata": {},
   "outputs": [],
   "source": [
    "def train_epoch(model, dataloader, loss_fn, optimizer, device) -> float:\n",
    "    size = len(dataloader.dataset) # Total number of samples in the dataset\n",
    "    num_batches = len(dataloader)  # Number of batches per epoch\n",
    "    train_loss, train_correct = 0.0, 0.0\n",
    "    model.train()  # Set model to training mode50\n",
    "    for batch, (x, y) in enumerate(dataloader):\n",
    "        x, y = x.to(device), y.to(device)\n",
    "        output = model(x)  # Forward propagation\n",
    "        loss = loss_fn(output, y)  # Calculate loss\n",
    "        train_loss += loss.item()  # Accumulate loss\n",
    "        optimizer.zero_grad()  # Zero gradients\n",
    "        loss.backward()  # Backpropagation\n",
    "        optimizer.step()  # Update weights\n",
    "        train_correct += (output.argmax(1) == y).type(torch.float).sum().item() # Compute the number of correct predictions\n",
    "\n",
    "    return train_loss/num_batches, 100*train_correct/size  # Return average loss"
   ]
  },
  {
   "cell_type": "code",
   "execution_count": 40,
   "metadata": {},
   "outputs": [],
   "source": [
    "def valid_epoch(model, dataloader, loss_fn, device) -> float:\n",
    "    size = len(dataloader.dataset) # Total number of samples in the dataset\n",
    "    num_batches = len(dataloader)  # Number of batches per epoch\n",
    "    valid_loss, valid_correct = 0.0, 0.0\n",
    "    model.eval()  # Set model to evaluation mode\n",
    "    with torch.inference_mode(mode=True):\n",
    "        for batch, (x, y) in enumerate(dataloader):\n",
    "            x, y = x.to(device), y.to(device)\n",
    "            output = model(x)  # Get model prediction\n",
    "            loss = loss_fn(output, y)  # Calculate loss\n",
    "            valid_loss += loss.item()  # Accumulate loss\n",
    "            valid_correct += (output.argmax(1) == y).type(torch.float).sum().item() # Compute the number of correct predictions\n",
    "    return valid_loss/num_batches, 100*valid_correct/size  # Return average loss"
   ]
  },
  {
   "cell_type": "code",
   "execution_count": 41,
   "metadata": {},
   "outputs": [],
   "source": [
    "def train(model, train_loader, valid_loader, loss_fn, optimizer, scheduler, epochs, device, patience):\n",
    "    best_valid_loss = float('inf')\n",
    "    current_patience = 0\n",
    "    # Initializes a defaultdict to store the training and validation losses at each epoch\n",
    "    result = defaultdict(list)\n",
    "    # Moved the model to the specified device\n",
    "    model.to(device)\n",
    "    # Iterates through each epoch\n",
    "    for epoch in tqdm(range(1, epochs + 1)):\n",
    "        # Train the model and calculate the training loss\n",
    "        train_loss, train_acc = train_epoch(\n",
    "            model, train_loader, loss_fn, optimizer, device)\n",
    "        # Calculate the validation loss\n",
    "        valid_loss, valid_acc = valid_epoch(model, valid_loader, loss_fn, device)\n",
    "        # Appended the training and validation losses to the result\n",
    "        result['train_loss'].append(train_loss)\n",
    "        result['train_accuracy'].append(train_acc)\n",
    "        result['valid_loss'].append(valid_loss)\n",
    "        result['valid_accuracy'].append(valid_acc)\n",
    "        if epoch % 5 == 0:\n",
    "            print(f\"Epoch: {epoch} Train accuracy: {train_acc} Train loss: {train_loss} Valid accuracy: {valid_acc} Valid loss: {valid_loss}\")\n",
    "        scheduler.step(valid_loss)\n",
    "        if valid_loss < best_valid_loss:\n",
    "            best_valid_loss = valid_loss\n",
    "            current_patience = 0\n",
    "        else:\n",
    "            current_patience += 1\n",
    "            if current_patience >= patience:\n",
    "                print(f\"Early stopping triggered. No improvement in {patience} epochs.\")\n",
    "                print(f\"Epoch: {epoch} Train accuracy: {train_acc} Train loss: {train_loss} Valid accuracy: {valid_acc} Valid loss: {valid_loss}\")\n",
    "                break\n",
    "    return result  # Return the training and validation losses at each epoch\n"
   ]
  },
  {
   "cell_type": "code",
   "execution_count": 71,
   "metadata": {},
   "outputs": [],
   "source": [
    "def plot(result, name):\n",
    "    # Plot the Accuracy history\n",
    "\n",
    "    # Get the number of epochs\n",
    "    epochs = range(len(result['train_accuracy']))\n",
    "\n",
    "    # Create a new figure for the plot\n",
    "    plt.figure(figsize=(18,6))\n",
    "\n",
    "    plt.subplot(1,2,1)\n",
    "    # Set the title of the plot\n",
    "    plt.title('Training and Validation Accuracy')\n",
    "    # Set the label for the x-axis\n",
    "    plt.xlabel('Epochs')\n",
    "    # Set the label for the y-axis\n",
    "    plt.ylabel('Accuracy')\n",
    "    # Plot the training loss over epochs\n",
    "    plt.plot(epochs, result['train_accuracy'], label='train accuracy')\n",
    "    # Plot the validation loss over epochs\n",
    "    plt.plot(epochs, result['valid_accuracy'], label='valid accuracy')\n",
    "    # Add a legend to the plot\n",
    "    plt.legend()\n",
    "    # plt.tight_layout()\n",
    "    # Save the plot\n",
    "    # plt.savefig('Training and Validation Accuracy.png')\n",
    "    # Display the plot\n",
    "    # plt.show()\n",
    "\n",
    "    # Plot the Loss history\n",
    "\n",
    "    # Create a new figure for the plot\n",
    "    # plt.figure()\n",
    "    plt.subplot(1,2,2)\n",
    "    # Set the title of the plot\n",
    "    plt.title('Training and Validation Loss')\n",
    "    # Set the label for the x-axis\n",
    "    plt.xlabel('Epochs')\n",
    "    # Set the label for the y-axis\n",
    "    plt.ylabel('Loss')\n",
    "    # Plot the training loss over epochs\n",
    "    plt.plot(epochs, result['train_loss'], label='train loss')\n",
    "    # Plot the validation loss over epochs\n",
    "    plt.plot(epochs, result['valid_loss'], label='valid loss')\n",
    "    # Add a legend to the plot\n",
    "    plt.legend()\n",
    "    plt.tight_layout()\n",
    "    # Save the plot\n",
    "    # plt.savefig('Training and Validation Loss.png')\n",
    "    plt.savefig(name)\n",
    "    # Display the plot\n",
    "    plt.show()"
   ]
  },
  {
   "cell_type": "code",
   "execution_count": 43,
   "metadata": {},
   "outputs": [],
   "source": [
    "# class RNN(nn.Module):\n",
    "#     def __init__(self, input_size, hidden_size, num_layers, output_size, dropout_prob):\n",
    "#         super(RNN, self).__init__()\n",
    "#         self.hidden_size = hidden_size\n",
    "#         self.num_layers = num_layers\n",
    "#         self.rnn1 = nn.RNN(input_size, hidden_size, num_layers, bidirectional=True, batch_first=True)\n",
    "#         self.dropout1 = nn.Dropout(dropout_prob)\n",
    "#         self.rnn2 = nn.RNN(hidden_size * 2, hidden_size, num_layers, bidirectional=True, batch_first=True)\n",
    "#         self.dropout2 = nn.Dropout(dropout_prob)\n",
    "#         self.rnn3 = nn.RNN(hidden_size * 2, hidden_size, num_layers, bidirectional=True, batch_first=True)\n",
    "#         self.dropout3 = nn.Dropout(dropout_prob)\n",
    "#         self.batch_norm = nn.BatchNorm1d(hidden_size * 2)\n",
    "#         self.fc = nn.Linear(hidden_size * 2, output_size)\n",
    "\n",
    "#     def forward(self, x):\n",
    "#         h0 = torch.zeros(self.num_layers * 2, x.size(0), self.hidden_size).to(x.device)\n",
    "#         out, _ = self.rnn1(x, h0)\n",
    "#         out = self.dropout1(out)\n",
    "#         out, _ = self.rnn2(out, h0)\n",
    "#         out = self.dropout2(out)\n",
    "#         out, _ = self.rnn3(out, h0)\n",
    "#         out = self.dropout3(out)\n",
    "#         out = out.permute(0, 2, 1)\n",
    "#         out = self.batch_norm(out)\n",
    "#         out = out.permute(0, 2, 1)\n",
    "#         out = out[:, -1, :]\n",
    "#         out = self.fc(out)\n",
    "#         return out\n"
   ]
  },
  {
   "cell_type": "code",
   "execution_count": 44,
   "metadata": {},
   "outputs": [],
   "source": [
    "class RNN(nn.Module):\n",
    "    def __init__(self, input_size, hidden_size, num_layers, output_size, dropout_prob):\n",
    "        super().__init__()\n",
    "        self.hidden_size = hidden_size\n",
    "        self.num_layers = num_layers\n",
    "        self.rnn = nn.RNN(input_size, hidden_size, num_layers, batch_first=True, dropout=dropout_prob, bidirectional=True)\n",
    "        for name, param in self.rnn.named_parameters():\n",
    "            if \"bias\" in name:\n",
    "                nn.init.constant_(param, 0.0)\n",
    "            elif \"weight\" in name:\n",
    "                nn.init.orthogonal_(param)\n",
    "        self.fc = nn.Sequential(\n",
    "            nn.Linear(hidden_size * 2, hidden_size),\n",
    "            nn.ReLU(),\n",
    "            nn.Dropout(dropout_prob),\n",
    "            nn.Linear(hidden_size, output_size),\n",
    "        )\n",
    "\n",
    "    def forward(self, x):\n",
    "        h0 = torch.zeros(self.num_layers * 2, x.size(0), self.hidden_size).to(x.device)\n",
    "        # c0 = torch.zeros(self.num_layers * 2, x.size(0), self.hidden_size).to(x.device)\n",
    "        out, _ = self.rnn(x, h0)\n",
    "        out = self.fc(out[:, -1, :])\n",
    "        return out"
   ]
  },
  {
   "cell_type": "code",
   "execution_count": 45,
   "metadata": {},
   "outputs": [],
   "source": [
    "# class GRU(nn.Module):\n",
    "#     def __init__(self, input_size, hidden_size, num_layers, output_size, dropout_prob):\n",
    "#         super(GRU, self).__init__()\n",
    "#         self.hidden_size = hidden_size\n",
    "#         self.num_layers = num_layers\n",
    "#         self.gru1 = nn.GRU(input_size, hidden_size, num_layers, bidirectional=True, batch_first=True)\n",
    "#         self.dropout1 = nn.Dropout(dropout_prob)\n",
    "#         self.gru2 = nn.GRU(hidden_size * 2, hidden_size, num_layers, bidirectional=True, batch_first=True)\n",
    "#         self.dropout2 = nn.Dropout(dropout_prob)\n",
    "#         self.gru3 = nn.GRU(hidden_size * 2, hidden_size, num_layers, bidirectional=True, batch_first=True)\n",
    "#         self.dropout3 = nn.Dropout(dropout_prob)\n",
    "#         self.batch_norm = nn.BatchNorm1d(hidden_size * 2)\n",
    "#         self.fc = nn.Linear(hidden_size * 2, output_size)\n",
    "\n",
    "#     def forward(self, x):\n",
    "#         h0 = torch.zeros(self.num_layers * 2, x.size(0), self.hidden_size).to(x.device)\n",
    "#         out, _ = self.gru1(x, h0)\n",
    "#         out = self.dropout1(out)\n",
    "#         out, _ = self.gru2(out, h0)\n",
    "#         out = self.dropout2(out)\n",
    "#         out, _ = self.gru3(out, h0)\n",
    "#         out = self.dropout3(out)\n",
    "#         out = out.permute(0, 2, 1)\n",
    "#         out = self.batch_norm(out)\n",
    "#         out = out.permute(0, 2, 1)\n",
    "#         out = out[:, -1, :]\n",
    "#         out = self.fc(out)\n",
    "#         return out\n"
   ]
  },
  {
   "cell_type": "code",
   "execution_count": 46,
   "metadata": {},
   "outputs": [],
   "source": [
    "class GRU(nn.Module):\n",
    "    def __init__(self, input_size, hidden_size, num_layers, output_size, dropout_prob):\n",
    "        super().__init__()\n",
    "        self.hidden_size = hidden_size\n",
    "        self.num_layers = num_layers\n",
    "        self.gru = nn.GRU(input_size, hidden_size, num_layers, batch_first=True, dropout=dropout_prob, bidirectional=True)\n",
    "        for name, param in self.gru.named_parameters():\n",
    "            if \"bias\" in name:\n",
    "                nn.init.constant_(param, 0.0)\n",
    "            elif \"weight\" in name:\n",
    "                nn.init.orthogonal_(param)\n",
    "        self.fc = nn.Sequential(\n",
    "            nn.Linear(hidden_size * 2, hidden_size),\n",
    "            nn.ReLU(),\n",
    "            nn.Dropout(dropout_prob),\n",
    "            nn.Linear(hidden_size, output_size),\n",
    "        )\n",
    "\n",
    "    def forward(self, x):\n",
    "        h0 = torch.zeros(self.num_layers * 2, x.size(0), self.hidden_size).to(x.device)\n",
    "        # c0 = torch.zeros(self.num_layers * 2, x.size(0), self.hidden_size).to(x.device)\n",
    "        out, _ = self.gru(x, h0)\n",
    "        out = self.fc(out[:, -1, :])\n",
    "        return out"
   ]
  },
  {
   "cell_type": "code",
   "execution_count": 47,
   "metadata": {},
   "outputs": [],
   "source": [
    "# class LSTM(nn.Module):\n",
    "#     def __init__(self, input_size, hidden_size, num_layers, output_size, dropout_prob):\n",
    "#         super(LSTM, self).__init__()\n",
    "#         self.hidden_size = hidden_size\n",
    "#         self.num_layers = num_layers\n",
    "#         self.lstm1 = nn.LSTM(input_size, hidden_size, num_layers, bidirectional=True, batch_first=True)\n",
    "#         self.dropout1 = nn.Dropout(dropout_prob)\n",
    "#         self.lstm2 = nn.LSTM(hidden_size * 2, hidden_size, num_layers, bidirectional=True, batch_first=True)\n",
    "#         self.dropout2 = nn.Dropout(dropout_prob)\n",
    "#         self.lstm3 = nn.LSTM(hidden_size * 2, hidden_size, num_layers, bidirectional=True, batch_first=True)\n",
    "#         self.dropout3 = nn.Dropout(dropout_prob)\n",
    "#         self.batch_norm = nn.BatchNorm1d(hidden_size * 2)\n",
    "#         self.fc = nn.Linear(hidden_size * 2, output_size)\n",
    "\n",
    "#     def forward(self, x):\n",
    "#         h0 = torch.zeros(self.num_layers * 2, x.size(0), self.hidden_size).to(x.device)\n",
    "#         c0 = torch.zeros(self.num_layers * 2, x.size(0), self.hidden_size).to(x.device)\n",
    "#         out, _ = self.lstm1(x, (h0, c0))\n",
    "#         out = self.dropout1(out)\n",
    "#         out, _ = self.lstm2(out, (h0, c0))\n",
    "#         out = self.dropout2(out)\n",
    "#         out, _ = self.lstm3(out, (h0, c0))\n",
    "#         out = self.dropout3(out)\n",
    "#         out = out.permute(0, 2, 1)\n",
    "#         out = self.batch_norm(out)\n",
    "#         out = out.permute(0, 2, 1)\n",
    "#         out = out[:, -1, :]\n",
    "#         out = self.fc(out)\n",
    "#         return out\n"
   ]
  },
  {
   "cell_type": "code",
   "execution_count": 48,
   "metadata": {},
   "outputs": [],
   "source": [
    "class LSTM(nn.Module):\n",
    "    def __init__(self, input_size, hidden_size, num_layers, output_size, dropout_prob):\n",
    "        super().__init__()\n",
    "        self.hidden_size = hidden_size\n",
    "        self.num_layers = num_layers\n",
    "        self.lstm = nn.LSTM(input_size, hidden_size, num_layers, batch_first=True, dropout=dropout_prob, bidirectional=True)\n",
    "        for name, param in self.lstm.named_parameters():\n",
    "            if \"bias\" in name:\n",
    "                nn.init.constant_(param, 0.0)\n",
    "            elif \"weight\" in name:\n",
    "                nn.init.orthogonal_(param)\n",
    "        self.fc = nn.Sequential(\n",
    "            nn.Linear(hidden_size * 2, hidden_size),\n",
    "            nn.ReLU(),\n",
    "            nn.Dropout(0.25),\n",
    "            nn.Linear(hidden_size, output_size),\n",
    "        )\n",
    "\n",
    "    def forward(self, x):\n",
    "        h0 = torch.zeros(self.num_layers * 2, x.size(0), self.hidden_size).to(x.device)\n",
    "        c0 = torch.zeros(self.num_layers * 2, x.size(0), self.hidden_size).to(x.device)\n",
    "        out, _ = self.lstm(x, (h0, c0))\n",
    "        out = self.fc(out[:, -1, :])\n",
    "        return out"
   ]
  },
  {
   "attachments": {},
   "cell_type": "markdown",
   "metadata": {},
   "source": [
    "### Load Data"
   ]
  },
  {
   "cell_type": "code",
   "execution_count": 49,
   "metadata": {},
   "outputs": [],
   "source": [
    "x = pd.read_csv('data/triain_in.csv').values[:, 1:]\n",
    "y = pd.read_csv('data/train_out.csv').values[:, 1:]"
   ]
  },
  {
   "cell_type": "code",
   "execution_count": 50,
   "metadata": {},
   "outputs": [],
   "source": [
    "x = torch.from_numpy(x).float()\n",
    "y = torch.from_numpy(y).long()\n",
    "x = x.view(-1, 8, 2)\n",
    "y = y.squeeze()\n",
    "train_data = torch.utils.data.TensorDataset(x, y) "
   ]
  },
  {
   "cell_type": "code",
   "execution_count": 51,
   "metadata": {},
   "outputs": [],
   "source": [
    "train_size = int(0.8 * len(x))\n",
    "val_size = len(x) - train_size\n",
    "\n",
    "# Determine the sizes of the training and validation sets (0.8 for training, 0.2 for validation)\n",
    "generator = torch.Generator().manual_seed(7)\n",
    "train_dataset, val_dataset = random_split(train_data, [train_size, val_size], generator=generator) # Use the random_split to split the dataset"
   ]
  },
  {
   "cell_type": "code",
   "execution_count": 52,
   "metadata": {},
   "outputs": [],
   "source": [
    "train_loader = DataLoader(train_dataset, batch_size=BATCH_SIZE, shuffle=True)\n",
    "val_loader = DataLoader(val_dataset, batch_size=BATCH_SIZE, shuffle=True)"
   ]
  },
  {
   "attachments": {},
   "cell_type": "markdown",
   "metadata": {},
   "source": [
    "### RNN"
   ]
  },
  {
   "cell_type": "code",
   "execution_count": 53,
   "metadata": {},
   "outputs": [],
   "source": [
    "model_RNN = RNN(input_size, hidden_size, num_layers, output_size, dropout_prob)\n",
    "loss_fn = nn.CrossEntropyLoss() # Define the loss function\n",
    "optimizer = torch.optim.Adam(model_RNN.parameters(), lr=LEARNING_RATE) # Define the optimizer\n",
    "scheduler = ReduceLROnPlateau(optimizer, mode='min', factor=0.5, patience=5, min_lr = 1e-12, verbose=True)"
   ]
  },
  {
   "cell_type": "code",
   "execution_count": 54,
   "metadata": {},
   "outputs": [
    {
     "name": "stderr",
     "output_type": "stream",
     "text": [
      "  0%|          | 5/1000 [00:02<08:44,  1.90it/s]"
     ]
    },
    {
     "name": "stdout",
     "output_type": "stream",
     "text": [
      "Epoch: 5 Train accuracy: 88.84070058381985 Train loss: 0.37225813006467007 Valid accuracy: 91.52768512341561 Valid loss: 0.25203749537467957\n"
     ]
    },
    {
     "name": "stderr",
     "output_type": "stream",
     "text": [
      "  1%|          | 10/1000 [00:05<08:30,  1.94it/s]"
     ]
    },
    {
     "name": "stdout",
     "output_type": "stream",
     "text": [
      "Epoch: 10 Train accuracy: 94.27856547122602 Train loss: 0.18494077271563894 Valid accuracy: 95.59706470980653 Valid loss: 0.13914989267892025\n"
     ]
    },
    {
     "name": "stderr",
     "output_type": "stream",
     "text": [
      "  2%|▏         | 15/1000 [00:07<08:21,  1.96it/s]"
     ]
    },
    {
     "name": "stdout",
     "output_type": "stream",
     "text": [
      "Epoch: 15 Train accuracy: 95.87989991659717 Train loss: 0.14455821800065485 Valid accuracy: 96.46430953969313 Valid loss: 0.09938424638413051\n"
     ]
    },
    {
     "name": "stderr",
     "output_type": "stream",
     "text": [
      "  2%|▏         | 20/1000 [00:10<08:24,  1.94it/s]"
     ]
    },
    {
     "name": "stdout",
     "output_type": "stream",
     "text": [
      "Epoch: 20 Train accuracy: 96.78065054211844 Train loss: 0.11055405553370873 Valid accuracy: 97.59839893262175 Valid loss: 0.07581102140644129\n"
     ]
    },
    {
     "name": "stderr",
     "output_type": "stream",
     "text": [
      "  2%|▎         | 25/1000 [00:12<08:14,  1.97it/s]"
     ]
    },
    {
     "name": "stdout",
     "output_type": "stream",
     "text": [
      "Epoch: 25 Train accuracy: 97.31442869057548 Train loss: 0.0907060070374505 Valid accuracy: 98.1320880587058 Valid loss: 0.05592865579107657\n"
     ]
    },
    {
     "name": "stderr",
     "output_type": "stream",
     "text": [
      "  3%|▎         | 30/1000 [00:15<08:07,  1.99it/s]"
     ]
    },
    {
     "name": "stdout",
     "output_type": "stream",
     "text": [
      "Epoch: 30 Train accuracy: 98.08173477898248 Train loss: 0.06836247420993614 Valid accuracy: 98.73248832555036 Valid loss: 0.046604436594358783\n"
     ]
    },
    {
     "name": "stderr",
     "output_type": "stream",
     "text": [
      "  4%|▎         | 35/1000 [00:17<08:06,  1.99it/s]"
     ]
    },
    {
     "name": "stdout",
     "output_type": "stream",
     "text": [
      "Epoch: 35 Train accuracy: 98.63219349457881 Train loss: 0.05157992495298187 Valid accuracy: 99.19946631087392 Valid loss: 0.03563709049039778\n"
     ]
    },
    {
     "name": "stderr",
     "output_type": "stream",
     "text": [
      "  4%|▍         | 40/1000 [00:20<08:05,  1.98it/s]"
     ]
    },
    {
     "name": "stdout",
     "output_type": "stream",
     "text": [
      "Epoch: 40 Train accuracy: 98.99916597164304 Train loss: 0.0397068167091694 Valid accuracy: 99.13275517011341 Valid loss: 0.034523117648279096\n"
     ]
    },
    {
     "name": "stderr",
     "output_type": "stream",
     "text": [
      "  4%|▍         | 44/1000 [00:22<08:04,  1.97it/s]"
     ]
    },
    {
     "name": "stdout",
     "output_type": "stream",
     "text": [
      "Epoch 00044: reducing learning rate of group 0 to 1.0000e-04.\n"
     ]
    },
    {
     "name": "stderr",
     "output_type": "stream",
     "text": [
      "  4%|▍         | 45/1000 [00:23<08:03,  1.98it/s]"
     ]
    },
    {
     "name": "stdout",
     "output_type": "stream",
     "text": [
      "Epoch: 45 Train accuracy: 98.99916597164304 Train loss: 0.03518097032173636 Valid accuracy: 99.39959973315544 Valid loss: 0.027267330966424197\n"
     ]
    },
    {
     "name": "stderr",
     "output_type": "stream",
     "text": [
      "  5%|▌         | 50/1000 [00:25<08:20,  1.90it/s]"
     ]
    },
    {
     "name": "stdout",
     "output_type": "stream",
     "text": [
      "Epoch: 50 Train accuracy: 99.28273561301084 Train loss: 0.029964877558782934 Valid accuracy: 99.26617745163442 Valid loss: 0.03319333627463338\n"
     ]
    },
    {
     "name": "stderr",
     "output_type": "stream",
     "text": [
      "  6%|▌         | 55/1000 [00:28<08:21,  1.89it/s]"
     ]
    },
    {
     "name": "stdout",
     "output_type": "stream",
     "text": [
      "Epoch: 55 Train accuracy: 99.21601334445371 Train loss: 0.02918968249256029 Valid accuracy: 99.19946631087392 Valid loss: 0.030957852984392183\n"
     ]
    },
    {
     "name": "stderr",
     "output_type": "stream",
     "text": [
      "  6%|▌         | 58/1000 [00:29<08:21,  1.88it/s]"
     ]
    },
    {
     "name": "stdout",
     "output_type": "stream",
     "text": [
      "Epoch 00058: reducing learning rate of group 0 to 5.0000e-05.\n"
     ]
    },
    {
     "name": "stderr",
     "output_type": "stream",
     "text": [
      "  6%|▌         | 60/1000 [00:30<08:22,  1.87it/s]"
     ]
    },
    {
     "name": "stdout",
     "output_type": "stream",
     "text": [
      "Epoch: 60 Train accuracy: 99.36613844870726 Train loss: 0.025525634647025033 Valid accuracy: 99.33288859239492 Valid loss: 0.03012697845189634\n"
     ]
    },
    {
     "name": "stderr",
     "output_type": "stream",
     "text": [
      "  6%|▋         | 64/1000 [00:33<08:10,  1.91it/s]"
     ]
    },
    {
     "name": "stdout",
     "output_type": "stream",
     "text": [
      "Epoch 00064: reducing learning rate of group 0 to 2.5000e-05.\n"
     ]
    },
    {
     "name": "stderr",
     "output_type": "stream",
     "text": [
      "  6%|▋         | 65/1000 [00:33<08:06,  1.92it/s]"
     ]
    },
    {
     "name": "stdout",
     "output_type": "stream",
     "text": [
      "Epoch: 65 Train accuracy: 99.46622185154295 Train loss: 0.0227575841442771 Valid accuracy: 99.26617745163442 Valid loss: 0.03235219991450109\n"
     ]
    },
    {
     "name": "stderr",
     "output_type": "stream",
     "text": [
      "  7%|▋         | 70/1000 [00:36<07:58,  1.94it/s]"
     ]
    },
    {
     "name": "stdout",
     "output_type": "stream",
     "text": [
      "Epoch: 70 Train accuracy: 99.39949958298583 Train loss: 0.021415472129716517 Valid accuracy: 99.33288859239492 Valid loss: 0.028917816839740672\n",
      "Epoch 00070: reducing learning rate of group 0 to 1.2500e-05.\n"
     ]
    },
    {
     "name": "stderr",
     "output_type": "stream",
     "text": [
      "  8%|▊         | 75/1000 [00:38<07:58,  1.93it/s]"
     ]
    },
    {
     "name": "stdout",
     "output_type": "stream",
     "text": [
      "Epoch: 75 Train accuracy: 99.44954128440367 Train loss: 0.021051121115847986 Valid accuracy: 99.33288859239492 Valid loss: 0.030616242764889202\n"
     ]
    },
    {
     "name": "stderr",
     "output_type": "stream",
     "text": [
      "  8%|▊         | 76/1000 [00:39<07:56,  1.94it/s]"
     ]
    },
    {
     "name": "stdout",
     "output_type": "stream",
     "text": [
      "Epoch 00076: reducing learning rate of group 0 to 6.2500e-06.\n"
     ]
    },
    {
     "name": "stderr",
     "output_type": "stream",
     "text": [
      "  8%|▊         | 80/1000 [00:41<07:50,  1.96it/s]"
     ]
    },
    {
     "name": "stdout",
     "output_type": "stream",
     "text": [
      "Epoch: 80 Train accuracy: 99.53294412010008 Train loss: 0.018630237290710012 Valid accuracy: 99.33288859239492 Valid loss: 0.030446139173557426\n"
     ]
    },
    {
     "name": "stderr",
     "output_type": "stream",
     "text": [
      "  8%|▊         | 81/1000 [00:42<07:59,  1.91it/s]"
     ]
    },
    {
     "name": "stdout",
     "output_type": "stream",
     "text": [
      "Epoch 00082: reducing learning rate of group 0 to 3.1250e-06.\n",
      "Early stopping triggered. No improvement in 30 epochs.\n",
      "Epoch: 82 Train accuracy: 99.49958298582152 Train loss: 0.019626226495057245 Valid accuracy: 99.26617745163442 Valid loss: 0.030356594374059066\n"
     ]
    },
    {
     "name": "stderr",
     "output_type": "stream",
     "text": [
      "\n"
     ]
    }
   ],
   "source": [
    "# Perform the training and validation\n",
    "result_RNN = train(model_RNN, train_loader, val_loader, loss_fn, optimizer, scheduler, EPOCHS, device, patience)"
   ]
  },
  {
   "cell_type": "code",
   "execution_count": 72,
   "metadata": {},
   "outputs": [
    {
     "data": {
      "image/png": "[encoded data removed]",
      "text/plain": [
       "<Figure size 1800x600 with 2 Axes>"
      ]
     },
     "metadata": {},
     "output_type": "display_data"
    }
   ],
   "source": [
    "plot(result_RNN, 'img/RNN Training and Validation History.png')"
   ]
  },
  {
   "attachments": {},
   "cell_type": "markdown",
   "metadata": {},
   "source": [
    "### GRU"
   ]
  },
  {
   "cell_type": "code",
   "execution_count": 56,
   "metadata": {},
   "outputs": [],
   "source": [
    "model_GRU = GRU(input_size, hidden_size, num_layers, output_size, dropout_prob)\n",
    "loss_fn = nn.CrossEntropyLoss() # Define the loss function\n",
    "optimizer = torch.optim.Adam(model_GRU.parameters(), lr=LEARNING_RATE) # Define the optimizer\n",
    "scheduler = ReduceLROnPlateau(optimizer, mode='min', factor=0.1, patience=5, min_lr = 1e-12, verbose=True)"
   ]
  },
  {
   "cell_type": "code",
   "execution_count": 57,
   "metadata": {},
   "outputs": [
    {
     "name": "stderr",
     "output_type": "stream",
     "text": [
      "  0%|          | 5/1000 [00:02<08:42,  1.90it/s]"
     ]
    },
    {
     "name": "stdout",
     "output_type": "stream",
     "text": [
      "Epoch: 5 Train accuracy: 91.2927439532944 Train loss: 0.26824616668547724 Valid accuracy: 93.3955970647098 Valid loss: 0.202295970330213\n"
     ]
    },
    {
     "name": "stderr",
     "output_type": "stream",
     "text": [
      "  1%|          | 10/1000 [00:05<08:35,  1.92it/s]"
     ]
    },
    {
     "name": "stdout",
     "output_type": "stream",
     "text": [
      "Epoch: 10 Train accuracy: 95.8465387823186 Train loss: 0.1425207063476456 Valid accuracy: 96.39759839893262 Valid loss: 0.09506988864233519\n"
     ]
    },
    {
     "name": "stderr",
     "output_type": "stream",
     "text": [
      "  2%|▏         | 15/1000 [00:07<08:35,  1.91it/s]"
     ]
    },
    {
     "name": "stdout",
     "output_type": "stream",
     "text": [
      "Epoch: 15 Train accuracy: 97.28106755629692 Train loss: 0.09207638110371029 Valid accuracy: 96.99799866577719 Valid loss: 0.0871835452345933\n"
     ]
    },
    {
     "name": "stderr",
     "output_type": "stream",
     "text": [
      "  2%|▏         | 20/1000 [00:10<08:25,  1.94it/s]"
     ]
    },
    {
     "name": "stdout",
     "output_type": "stream",
     "text": [
      "Epoch: 20 Train accuracy: 97.88156797331109 Train loss: 0.06776732060206221 Valid accuracy: 98.1320880587058 Valid loss: 0.05880599317854231\n"
     ]
    },
    {
     "name": "stderr",
     "output_type": "stream",
     "text": [
      "  2%|▎         | 25/1000 [00:13<08:22,  1.94it/s]"
     ]
    },
    {
     "name": "stdout",
     "output_type": "stream",
     "text": [
      "Epoch: 25 Train accuracy: 98.96580483736447 Train loss: 0.038869068442665515 Valid accuracy: 98.33222148098733 Valid loss: 0.04657784874174506\n"
     ]
    },
    {
     "name": "stderr",
     "output_type": "stream",
     "text": [
      "  3%|▎         | 30/1000 [00:15<08:25,  1.92it/s]"
     ]
    },
    {
     "name": "stdout",
     "output_type": "stream",
     "text": [
      "Epoch: 30 Train accuracy: 98.96580483736447 Train loss: 0.033291315440053836 Valid accuracy: 99.19946631087392 Valid loss: 0.02572170518923234\n"
     ]
    },
    {
     "name": "stderr",
     "output_type": "stream",
     "text": [
      "  4%|▎         | 35/1000 [00:18<08:14,  1.95it/s]"
     ]
    },
    {
     "name": "stdout",
     "output_type": "stream",
     "text": [
      "Epoch: 35 Train accuracy: 99.08256880733946 Train loss: 0.031017897473499575 Valid accuracy: 98.93262174783189 Valid loss: 0.03691408537796381\n"
     ]
    },
    {
     "name": "stderr",
     "output_type": "stream",
     "text": [
      "  4%|▎         | 37/1000 [00:19<08:12,  1.96it/s]"
     ]
    },
    {
     "name": "stdout",
     "output_type": "stream",
     "text": [
      "Epoch 00037: reducing learning rate of group 0 to 2.0000e-05.\n"
     ]
    },
    {
     "name": "stderr",
     "output_type": "stream",
     "text": [
      "  4%|▍         | 40/1000 [00:20<08:15,  1.94it/s]"
     ]
    },
    {
     "name": "stdout",
     "output_type": "stream",
     "text": [
      "Epoch: 40 Train accuracy: 99.54962468723937 Train loss: 0.01679737041914895 Valid accuracy: 99.39959973315544 Valid loss: 0.021635687695766622\n"
     ]
    },
    {
     "name": "stderr",
     "output_type": "stream",
     "text": [
      "  4%|▍         | 45/1000 [00:23<08:16,  1.92it/s]"
     ]
    },
    {
     "name": "stdout",
     "output_type": "stream",
     "text": [
      "Epoch: 45 Train accuracy: 99.6163469557965 Train loss: 0.01703105657423371 Valid accuracy: 99.46631087391594 Valid loss: 0.02110206722925873\n"
     ]
    },
    {
     "name": "stderr",
     "output_type": "stream",
     "text": [
      "  5%|▌         | 50/1000 [00:26<08:04,  1.96it/s]"
     ]
    },
    {
     "name": "stdout",
     "output_type": "stream",
     "text": [
      "Epoch: 50 Train accuracy: 99.6997497914929 Train loss: 0.012962256680227855 Valid accuracy: 99.39959973315544 Valid loss: 0.022787859902699836\n"
     ]
    },
    {
     "name": "stderr",
     "output_type": "stream",
     "text": [
      "  5%|▌         | 54/1000 [00:28<08:03,  1.96it/s]"
     ]
    },
    {
     "name": "stdout",
     "output_type": "stream",
     "text": [
      "Epoch 00054: reducing learning rate of group 0 to 2.0000e-06.\n"
     ]
    },
    {
     "name": "stderr",
     "output_type": "stream",
     "text": [
      "  6%|▌         | 55/1000 [00:28<08:06,  1.94it/s]"
     ]
    },
    {
     "name": "stdout",
     "output_type": "stream",
     "text": [
      "Epoch: 55 Train accuracy: 99.64970809007507 Train loss: 0.013068018730994849 Valid accuracy: 99.39959973315544 Valid loss: 0.021681616357725825\n"
     ]
    },
    {
     "name": "stderr",
     "output_type": "stream",
     "text": [
      "  6%|▌         | 60/1000 [00:31<08:07,  1.93it/s]"
     ]
    },
    {
     "name": "stdout",
     "output_type": "stream",
     "text": [
      "Epoch: 60 Train accuracy: 99.63302752293578 Train loss: 0.015175495725533766 Valid accuracy: 99.39959973315544 Valid loss: 0.02115828124806285\n",
      "Epoch 00060: reducing learning rate of group 0 to 2.0000e-07.\n"
     ]
    },
    {
     "name": "stderr",
     "output_type": "stream",
     "text": [
      "  6%|▋         | 65/1000 [00:33<08:03,  1.93it/s]"
     ]
    },
    {
     "name": "stdout",
     "output_type": "stream",
     "text": [
      "Epoch: 65 Train accuracy: 99.78315262718932 Train loss: 0.012870668766442984 Valid accuracy: 99.39959973315544 Valid loss: 0.02107974576597855\n"
     ]
    },
    {
     "name": "stderr",
     "output_type": "stream",
     "text": [
      "  7%|▋         | 66/1000 [00:34<08:07,  1.92it/s]"
     ]
    },
    {
     "name": "stdout",
     "output_type": "stream",
     "text": [
      "Epoch 00066: reducing learning rate of group 0 to 2.0000e-08.\n"
     ]
    },
    {
     "name": "stderr",
     "output_type": "stream",
     "text": [
      "  7%|▋         | 70/1000 [00:36<08:04,  1.92it/s]"
     ]
    },
    {
     "name": "stdout",
     "output_type": "stream",
     "text": [
      "Epoch: 70 Train accuracy: 99.66638865721434 Train loss: 0.013606406474285362 Valid accuracy: 99.39959973315544 Valid loss: 0.021061976643977687\n"
     ]
    },
    {
     "name": "stderr",
     "output_type": "stream",
     "text": [
      "  7%|▋         | 72/1000 [00:37<08:01,  1.93it/s]"
     ]
    },
    {
     "name": "stdout",
     "output_type": "stream",
     "text": [
      "Epoch 00072: reducing learning rate of group 0 to 2.0000e-09.\n"
     ]
    },
    {
     "name": "stderr",
     "output_type": "stream",
     "text": [
      "  8%|▊         | 75/1000 [00:38<08:02,  1.92it/s]"
     ]
    },
    {
     "name": "stdout",
     "output_type": "stream",
     "text": [
      "Epoch: 75 Train accuracy: 99.7164303586322 Train loss: 0.015200717166930616 Valid accuracy: 99.39959973315544 Valid loss: 0.02106251858145078\n"
     ]
    },
    {
     "name": "stderr",
     "output_type": "stream",
     "text": [
      "  8%|▊         | 77/1000 [00:40<08:06,  1.90it/s]"
     ]
    },
    {
     "name": "stdout",
     "output_type": "stream",
     "text": [
      "Early stopping triggered. No improvement in 30 epochs.\n",
      "Epoch: 78 Train accuracy: 99.64970809007507 Train loss: 0.01336784724627889 Valid accuracy: 99.39959973315544 Valid loss: 0.02106421466816484\n"
     ]
    },
    {
     "name": "stderr",
     "output_type": "stream",
     "text": [
      "\n"
     ]
    }
   ],
   "source": [
    "# Perform the training and validation\n",
    "result_GRU = train(model_GRU, train_loader, val_loader, loss_fn, optimizer, scheduler, EPOCHS, device, patience)"
   ]
  },
  {
   "cell_type": "code",
   "execution_count": 73,
   "metadata": {},
   "outputs": [
    {
     "data": {
      "image/png": "[encoded data removed]",
      "text/plain": [
       "<Figure size 1800x600 with 2 Axes>"
      ]
     },
     "metadata": {},
     "output_type": "display_data"
    }
   ],
   "source": [
    "plot(result_GRU, 'img/GRU Training and Validation History.png')"
   ]
  },
  {
   "attachments": {},
   "cell_type": "markdown",
   "metadata": {},
   "source": [
    "### LSTM"
   ]
  },
  {
   "cell_type": "code",
   "execution_count": 59,
   "metadata": {},
   "outputs": [],
   "source": [
    "model_LSTM = LSTM(input_size, hidden_size, num_layers, output_size, dropout_prob)\n",
    "loss_fn = nn.CrossEntropyLoss() # Define the loss function\n",
    "optimizer = torch.optim.Adam(model_LSTM.parameters(), lr=LEARNING_RATE) # Define the optimizer\n",
    "scheduler = ReduceLROnPlateau(optimizer, mode='min', factor=0.1, patience=5, min_lr = 1e-12, verbose=True)"
   ]
  },
  {
   "cell_type": "code",
   "execution_count": 60,
   "metadata": {},
   "outputs": [
    {
     "name": "stderr",
     "output_type": "stream",
     "text": [
      "  0%|          | 5/1000 [00:02<08:51,  1.87it/s]"
     ]
    },
    {
     "name": "stdout",
     "output_type": "stream",
     "text": [
      "Epoch: 5 Train accuracy: 91.75979983319432 Train loss: 0.28281026420758126 Valid accuracy: 94.46297531687792 Valid loss: 0.17245328838520863\n"
     ]
    },
    {
     "name": "stderr",
     "output_type": "stream",
     "text": [
      "  1%|          | 10/1000 [00:05<08:46,  1.88it/s]"
     ]
    },
    {
     "name": "stdout",
     "output_type": "stream",
     "text": [
      "Epoch: 10 Train accuracy: 96.18015012510425 Train loss: 0.1325154035907001 Valid accuracy: 97.66511007338225 Valid loss: 0.07678898921276027\n"
     ]
    },
    {
     "name": "stderr",
     "output_type": "stream",
     "text": [
      "  2%|▏         | 15/1000 [00:08<08:45,  1.87it/s]"
     ]
    },
    {
     "name": "stdout",
     "output_type": "stream",
     "text": [
      "Epoch: 15 Train accuracy: 97.54795663052543 Train loss: 0.08687710703568573 Valid accuracy: 97.06470980653769 Valid loss: 0.0830505991632\n"
     ]
    },
    {
     "name": "stderr",
     "output_type": "stream",
     "text": [
      "  2%|▏         | 20/1000 [00:10<08:34,  1.90it/s]"
     ]
    },
    {
     "name": "stdout",
     "output_type": "stream",
     "text": [
      "Epoch: 20 Train accuracy: 98.3653044203503 Train loss: 0.06330109129045555 Valid accuracy: 98.33222148098733 Valid loss: 0.054247761947756754\n"
     ]
    },
    {
     "name": "stderr",
     "output_type": "stream",
     "text": [
      "  2%|▎         | 25/1000 [00:13<08:29,  1.92it/s]"
     ]
    },
    {
     "name": "stdout",
     "output_type": "stream",
     "text": [
      "Epoch: 25 Train accuracy: 98.34862385321101 Train loss: 0.05890837702850633 Valid accuracy: 98.39893262174783 Valid loss: 0.047565484231219014\n"
     ]
    },
    {
     "name": "stderr",
     "output_type": "stream",
     "text": [
      "  3%|▎         | 30/1000 [00:15<08:30,  1.90it/s]"
     ]
    },
    {
     "name": "stdout",
     "output_type": "stream",
     "text": [
      "Epoch: 30 Train accuracy: 98.68223519599667 Train loss: 0.047464586342338154 Valid accuracy: 98.79919946631087 Valid loss: 0.043524502885547725\n"
     ]
    },
    {
     "name": "stderr",
     "output_type": "stream",
     "text": [
      "  3%|▎         | 32/1000 [00:16<08:29,  1.90it/s]"
     ]
    },
    {
     "name": "stdout",
     "output_type": "stream",
     "text": [
      "Epoch 00032: reducing learning rate of group 0 to 2.0000e-05.\n"
     ]
    },
    {
     "name": "stderr",
     "output_type": "stream",
     "text": [
      "  4%|▎         | 35/1000 [00:18<08:20,  1.93it/s]"
     ]
    },
    {
     "name": "stdout",
     "output_type": "stream",
     "text": [
      "Epoch: 35 Train accuracy: 99.38281901584654 Train loss: 0.02504202252826059 Valid accuracy: 99.0660440293529 Valid loss: 0.0281243478864471\n"
     ]
    },
    {
     "name": "stderr",
     "output_type": "stream",
     "text": [
      "  4%|▍         | 40/1000 [00:21<08:58,  1.78it/s]"
     ]
    },
    {
     "name": "stdout",
     "output_type": "stream",
     "text": [
      "Epoch: 40 Train accuracy: 99.39949958298583 Train loss: 0.023799950095324558 Valid accuracy: 99.33288859239492 Valid loss: 0.02709096091294146\n"
     ]
    },
    {
     "name": "stderr",
     "output_type": "stream",
     "text": [
      "  4%|▍         | 45/1000 [00:24<09:03,  1.76it/s]"
     ]
    },
    {
     "name": "stdout",
     "output_type": "stream",
     "text": [
      "Epoch: 45 Train accuracy: 99.36613844870726 Train loss: 0.023382195559493762 Valid accuracy: 99.26617745163442 Valid loss: 0.025614315918844905\n"
     ]
    },
    {
     "name": "stderr",
     "output_type": "stream",
     "text": [
      "  5%|▌         | 50/1000 [00:26<08:25,  1.88it/s]"
     ]
    },
    {
     "name": "stdout",
     "output_type": "stream",
     "text": [
      "Epoch: 50 Train accuracy: 99.43286071726439 Train loss: 0.022396235863004436 Valid accuracy: 99.53302201467645 Valid loss: 0.02507930334615323\n"
     ]
    },
    {
     "name": "stderr",
     "output_type": "stream",
     "text": [
      "  6%|▌         | 55/1000 [00:29<08:21,  1.88it/s]"
     ]
    },
    {
     "name": "stdout",
     "output_type": "stream",
     "text": [
      "Epoch: 55 Train accuracy: 99.39949958298583 Train loss: 0.02027421634572439 Valid accuracy: 99.19946631087392 Valid loss: 0.026188512488783514\n"
     ]
    },
    {
     "name": "stderr",
     "output_type": "stream",
     "text": [
      "  6%|▌         | 58/1000 [00:30<08:10,  1.92it/s]"
     ]
    },
    {
     "name": "stdout",
     "output_type": "stream",
     "text": [
      "Epoch 00058: reducing learning rate of group 0 to 2.0000e-06.\n"
     ]
    },
    {
     "name": "stderr",
     "output_type": "stream",
     "text": [
      "  6%|▌         | 60/1000 [00:32<08:15,  1.90it/s]"
     ]
    },
    {
     "name": "stdout",
     "output_type": "stream",
     "text": [
      "Epoch: 60 Train accuracy: 99.4161801501251 Train loss: 0.01919559522301573 Valid accuracy: 99.33288859239492 Valid loss: 0.025820698099275258\n"
     ]
    },
    {
     "name": "stderr",
     "output_type": "stream",
     "text": [
      "  6%|▋         | 64/1000 [00:34<08:16,  1.88it/s]"
     ]
    },
    {
     "name": "stdout",
     "output_type": "stream",
     "text": [
      "Epoch 00064: reducing learning rate of group 0 to 2.0000e-07.\n"
     ]
    },
    {
     "name": "stderr",
     "output_type": "stream",
     "text": [
      "  6%|▋         | 65/1000 [00:34<08:12,  1.90it/s]"
     ]
    },
    {
     "name": "stdout",
     "output_type": "stream",
     "text": [
      "Epoch: 65 Train accuracy: 99.38281901584654 Train loss: 0.020220740323024306 Valid accuracy: 99.33288859239492 Valid loss: 0.02592034312027031\n"
     ]
    },
    {
     "name": "stderr",
     "output_type": "stream",
     "text": [
      "  7%|▋         | 70/1000 [00:37<08:26,  1.84it/s]"
     ]
    },
    {
     "name": "stdout",
     "output_type": "stream",
     "text": [
      "Epoch: 70 Train accuracy: 99.44954128440367 Train loss: 0.020740260985590755 Valid accuracy: 99.33288859239492 Valid loss: 0.02581844951070726\n",
      "Epoch 00070: reducing learning rate of group 0 to 2.0000e-08.\n"
     ]
    },
    {
     "name": "stderr",
     "output_type": "stream",
     "text": [
      "  8%|▊         | 75/1000 [00:40<08:31,  1.81it/s]"
     ]
    },
    {
     "name": "stdout",
     "output_type": "stream",
     "text": [
      "Epoch: 75 Train accuracy: 99.54962468723937 Train loss: 0.02011580208528222 Valid accuracy: 99.33288859239492 Valid loss: 0.025779283788808165\n"
     ]
    },
    {
     "name": "stderr",
     "output_type": "stream",
     "text": [
      "  8%|▊         | 76/1000 [00:40<08:42,  1.77it/s]"
     ]
    },
    {
     "name": "stdout",
     "output_type": "stream",
     "text": [
      "Epoch 00076: reducing learning rate of group 0 to 2.0000e-09.\n"
     ]
    },
    {
     "name": "stderr",
     "output_type": "stream",
     "text": [
      "  8%|▊         | 80/1000 [00:42<08:22,  1.83it/s]"
     ]
    },
    {
     "name": "stdout",
     "output_type": "stream",
     "text": [
      "Epoch: 80 Train accuracy: 99.49958298582152 Train loss: 0.020253431143615632 Valid accuracy: 99.33288859239492 Valid loss: 0.02578011286095716\n"
     ]
    },
    {
     "name": "stderr",
     "output_type": "stream",
     "text": [
      "  8%|▊         | 81/1000 [00:44<08:19,  1.84it/s]"
     ]
    },
    {
     "name": "stdout",
     "output_type": "stream",
     "text": [
      "Early stopping triggered. No improvement in 30 epochs.\n",
      "Epoch: 82 Train accuracy: 99.56630525437865 Train loss: 0.018734489699783537 Valid accuracy: 99.33288859239492 Valid loss: 0.02578006487121766\n"
     ]
    },
    {
     "name": "stderr",
     "output_type": "stream",
     "text": [
      "\n"
     ]
    }
   ],
   "source": [
    "# Perform the training and validation\n",
    "result_LSTM = train(model_LSTM, train_loader, val_loader, loss_fn, optimizer, scheduler, EPOCHS, device, patience)"
   ]
  },
  {
   "cell_type": "code",
   "execution_count": 74,
   "metadata": {},
   "outputs": [
    {
     "data": {
      "image/png": "[encoded data removed]",
      "text/plain": [
       "<Figure size 1800x600 with 2 Axes>"
      ]
     },
     "metadata": {},
     "output_type": "display_data"
    }
   ],
   "source": [
    "plot(result_LSTM, 'img/LSTM Training and Validation History.png')"
   ]
  },
  {
   "attachments": {},
   "cell_type": "markdown",
   "metadata": {},
   "source": [
    "### Test"
   ]
  },
  {
   "cell_type": "code",
   "execution_count": 62,
   "metadata": {},
   "outputs": [],
   "source": [
    "x_test = pd.read_csv('data/test_in.csv').values[:, 1:] \n",
    "x_test = torch.from_numpy(x_test).float()\n",
    "x_test = x_test.view(-1, 8, 2) \n",
    "\n",
    "model_RNN.eval()\n",
    "with torch.no_grad():\n",
    "    x_test = x_test.to(device)\n",
    "    output = model_RNN(x_test)\n",
    "    _, predicted = torch.max(output.data, 1)\n",
    "\n",
    "predicted = predicted.cpu().numpy()\n",
    "submission = pd.DataFrame({'Label': predicted})\n",
    "submission.index += 1  # 調整索引從 1 開始\n",
    "submission.to_csv('submission/submission_RNN.csv', index_label='Serial No.')"
   ]
  },
  {
   "cell_type": "code",
   "execution_count": 63,
   "metadata": {},
   "outputs": [],
   "source": [
    "x_test = pd.read_csv('data/test_in.csv').values[:, 1:] \n",
    "x_test = torch.from_numpy(x_test).float()\n",
    "x_test = x_test.view(-1, 8, 2) \n",
    "\n",
    "model_GRU.eval()\n",
    "with torch.no_grad():\n",
    "    x_test = x_test.to(device)\n",
    "    output = model_GRU(x_test)\n",
    "    _, predicted = torch.max(output.data, 1)\n",
    "\n",
    "predicted = predicted.cpu().numpy()\n",
    "submission = pd.DataFrame({'Label': predicted})\n",
    "submission.index += 1  # 調整索引從 1 開始\n",
    "submission.to_csv('submission/submission_GRU.csv', index_label='Serial No.')"
   ]
  },
  {
   "cell_type": "code",
   "execution_count": 64,
   "metadata": {},
   "outputs": [],
   "source": [
    "x_test = pd.read_csv('data/test_in.csv').values[:, 1:] \n",
    "x_test = torch.from_numpy(x_test).float()\n",
    "x_test = x_test.view(-1, 8, 2) \n",
    "\n",
    "model_LSTM.eval()\n",
    "with torch.no_grad():\n",
    "    x_test = x_test.to(device)\n",
    "    output = model_LSTM(x_test)\n",
    "    _, predicted = torch.max(output.data, 1)\n",
    "\n",
    "predicted = predicted.cpu().numpy()\n",
    "submission = pd.DataFrame({'Label': predicted})\n",
    "submission.index += 1  # 調整索引從 1 開始\n",
    "submission.to_csv('submission/submission_LSTM.csv', index_label='Serial No.')"
   ]
  },
  {
   "cell_type": "code",
   "execution_count": 65,
   "metadata": {},
   "outputs": [
    {
     "name": "stderr",
     "output_type": "stream",
     "text": [
      "c:\\Users\\River\\anaconda3\\envs\\pytorch\\lib\\site-packages\\torchinfo\\torchinfo.py:477: UserWarning: TypedStorage is deprecated. It will be removed in the future and UntypedStorage will be the only storage class. This should only matter to you if you are using storages directly.  To access UntypedStorage directly, use tensor.untyped_storage() instead of tensor.storage()\n",
      "  action_fn=lambda data: sys.getsizeof(data.storage()),\n",
      "c:\\Users\\River\\anaconda3\\envs\\pytorch\\lib\\site-packages\\torch\\storage.py:665: UserWarning: TypedStorage is deprecated. It will be removed in the future and UntypedStorage will be the only storage class. This should only matter to you if you are using storages directly.  To access UntypedStorage directly, use tensor.untyped_storage() instead of tensor.storage()\n",
      "  return super().__sizeof__() + self.nbytes()\n"
     ]
    },
    {
     "data": {
      "text/plain": [
       "==========================================================================================\n",
       "Layer (type:depth-idx)                   Output Shape              Param #\n",
       "==========================================================================================\n",
       "RNN                                      [1, 10]                   --\n",
       "├─RNN: 1-1                               [1, 8, 128]               58,368\n",
       "├─Sequential: 1-2                        [1, 10]                   --\n",
       "│    └─Linear: 2-1                       [1, 64]                   8,256\n",
       "│    └─ReLU: 2-2                         [1, 64]                   --\n",
       "│    └─Dropout: 2-3                      [1, 64]                   --\n",
       "│    └─Linear: 2-4                       [1, 10]                   650\n",
       "==========================================================================================\n",
       "Total params: 67,274\n",
       "Trainable params: 67,274\n",
       "Non-trainable params: 0\n",
       "Total mult-adds (M): 0.48\n",
       "==========================================================================================\n",
       "Input size (MB): 0.00\n",
       "Forward/backward pass size (MB): 0.01\n",
       "Params size (MB): 0.27\n",
       "Estimated Total Size (MB): 0.28\n",
       "=========================================================================================="
      ]
     },
     "execution_count": 65,
     "metadata": {},
     "output_type": "execute_result"
    }
   ],
   "source": [
    "# Print the model summary\n",
    "summary(model_RNN, input_size=(1, 8, 2))"
   ]
  },
  {
   "cell_type": "code",
   "execution_count": 66,
   "metadata": {},
   "outputs": [
    {
     "name": "stderr",
     "output_type": "stream",
     "text": [
      "\n",
      "(dot.exe:12384): Pango-WARNING **: couldn't load font \"Linux libertine Not-Rotated 10\", falling back to \"Sans Not-Rotated 10\", expect ugly output.\n",
      "\n",
      "(dot.exe:4948): Pango-WARNING **: couldn't load font \"Linux libertine Not-Rotated 10\", falling back to \"Sans Not-Rotated 10\", expect ugly output.\n"
     ]
    },
    {
     "data": {
      "image/svg+xml": [
       "<?xml version=\"1.0\" encoding=\"UTF-8\" standalone=\"no\"?>\n",
       "<!DOCTYPE svg PUBLIC \"-//W3C//DTD SVG 1.1//EN\"\n",
       " \"http://www.w3.org/Graphics/SVG/1.1/DTD/svg11.dtd\">\n",
       "<!-- Generated by graphviz version 8.0.5 (20230430.1635)\n",
       " -->\n",
       "<!-- Title: model Pages: 1 -->\n",
       "<svg width=\"272pt\" height=\"620pt\"\n",
       " viewBox=\"0.00 0.00 272.00 620.25\" xmlns=\"http://www.w3.org/2000/svg\" xmlns:xlink=\"http://www.w3.org/1999/xlink\">\n",
       "<g id=\"graph0\" class=\"graph\" transform=\"scale(1 1) rotate(0) translate(4 616.25)\">\n",
       "<title>model</title>\n",
       "<polygon fill=\"white\" stroke=\"none\" points=\"-4,4 -4,-616.25 268,-616.25 268,4 -4,4\"/>\n",
       "<g id=\"clust1\" class=\"cluster\">\n",
       "<title>cluster_2</title>\n",
       "<polygon fill=\"none\" stroke=\"black\" stroke-dasharray=\"5,2\" points=\"48.5,-8 48.5,-400.25 198.5,-400.25 198.5,-8 48.5,-8\"/>\n",
       "<text text-anchor=\"middle\" x=\"79.75\" y=\"-384.85\" font-family=\"Times New Roman,serif\" font-size=\"12.00\">Sequential</text>\n",
       "</g>\n",
       "<!-- 0 -->\n",
       "<g id=\"node1\" class=\"node\">\n",
       "<title>0</title>\n",
       "<polygon fill=\"lightyellow\" stroke=\"none\" points=\"107,-607.25 0,-607.25 0,-573.25 107,-573.25 107,-607.25\"/>\n",
       "<polygon fill=\"none\" stroke=\"black\" points=\"0,-573.25 0,-607.25 61.75,-607.25 61.75,-573.25 0,-573.25\"/>\n",
       "<text text-anchor=\"start\" x=\"5\" y=\"-592.75\" font-family=\"Linux libertine\" font-size=\"10.00\">input&#45;tensor</text>\n",
       "<text text-anchor=\"start\" x=\"14.38\" y=\"-580.75\" font-family=\"Linux libertine\" font-size=\"10.00\">depth:0</text>\n",
       "<polygon fill=\"none\" stroke=\"black\" points=\"61.75,-573.25 61.75,-607.25 107,-607.25 107,-573.25 61.75,-573.25\"/>\n",
       "<text text-anchor=\"start\" x=\"66.75\" y=\"-586.75\" font-family=\"Linux libertine\" font-size=\"10.00\">(1, 8, 2)</text>\n",
       "</g>\n",
       "<!-- 2 -->\n",
       "<g id=\"node3\" class=\"node\">\n",
       "<title>2</title>\n",
       "<polygon fill=\"#c1ffc1\" stroke=\"none\" points=\"219,-532.25 28,-532.25 28,-488.25 219,-488.25 219,-532.25\"/>\n",
       "<polygon fill=\"none\" stroke=\"black\" points=\"28,-488.25 28,-532.25 71,-532.25 71,-488.25 28,-488.25\"/>\n",
       "<text text-anchor=\"start\" x=\"40.5\" y=\"-512.75\" font-family=\"Linux libertine\" font-size=\"10.00\">RNN</text>\n",
       "<text text-anchor=\"start\" x=\"33\" y=\"-500.75\" font-family=\"Linux libertine\" font-size=\"10.00\">depth:1</text>\n",
       "<polygon fill=\"none\" stroke=\"black\" points=\"71,-510.25 71,-532.25 114,-532.25 114,-510.25 71,-510.25\"/>\n",
       "<text text-anchor=\"start\" x=\"80.12\" y=\"-517.75\" font-family=\"Linux libertine\" font-size=\"10.00\">input:</text>\n",
       "<polygon fill=\"none\" stroke=\"black\" points=\"114,-510.25 114,-532.25 219,-532.25 219,-510.25 114,-510.25\"/>\n",
       "<text text-anchor=\"start\" x=\"124.12\" y=\"-517.75\" font-family=\"Linux libertine\" font-size=\"10.00\">(1, 8, 2), (6, 1, 64) </text>\n",
       "<polygon fill=\"none\" stroke=\"black\" points=\"71,-488.25 71,-510.25 114,-510.25 114,-488.25 71,-488.25\"/>\n",
       "<text text-anchor=\"start\" x=\"75.62\" y=\"-495.75\" font-family=\"Linux libertine\" font-size=\"10.00\">output: </text>\n",
       "<polygon fill=\"none\" stroke=\"black\" points=\"114,-488.25 114,-510.25 219,-510.25 219,-488.25 114,-488.25\"/>\n",
       "<text text-anchor=\"start\" x=\"118.88\" y=\"-495.75\" font-family=\"Linux libertine\" font-size=\"10.00\">(1, 8, 128), (6, 1, 64) </text>\n",
       "</g>\n",
       "<!-- 0&#45;&gt;2 -->\n",
       "<g id=\"edge1\" class=\"edge\">\n",
       "<title>0&#45;&gt;2</title>\n",
       "<path fill=\"none\" stroke=\"black\" d=\"M67.67,-573.47C76.28,-563.87 87.54,-551.31 97.7,-540\"/>\n",
       "<polygon fill=\"black\" stroke=\"black\" points=\"99.76,-542.82 103.84,-533.04 94.55,-538.15 99.76,-542.82\"/>\n",
       "</g>\n",
       "<!-- 1 -->\n",
       "<g id=\"node2\" class=\"node\">\n",
       "<title>1</title>\n",
       "<polygon fill=\"aliceblue\" stroke=\"none\" points=\"264,-612.25 125,-612.25 125,-568.25 264,-568.25 264,-612.25\"/>\n",
       "<polygon fill=\"none\" stroke=\"black\" points=\"125,-568.25 125,-612.25 168,-612.25 168,-568.25 125,-568.25\"/>\n",
       "<text text-anchor=\"start\" x=\"142.38\" y=\"-592.75\" font-family=\"Linux libertine\" font-size=\"10.00\">to</text>\n",
       "<text text-anchor=\"start\" x=\"130\" y=\"-580.75\" font-family=\"Linux libertine\" font-size=\"10.00\">depth:1</text>\n",
       "<polygon fill=\"none\" stroke=\"black\" points=\"168,-590.25 168,-612.25 211,-612.25 211,-590.25 168,-590.25\"/>\n",
       "<text text-anchor=\"start\" x=\"177.12\" y=\"-597.75\" font-family=\"Linux libertine\" font-size=\"10.00\">input:</text>\n",
       "<polygon fill=\"none\" stroke=\"black\" points=\"211,-590.25 211,-612.25 264,-612.25 264,-590.25 211,-590.25\"/>\n",
       "<text text-anchor=\"start\" x=\"215.75\" y=\"-597.75\" font-family=\"Linux libertine\" font-size=\"10.00\">(6, 1, 64) </text>\n",
       "<polygon fill=\"none\" stroke=\"black\" points=\"168,-568.25 168,-590.25 211,-590.25 211,-568.25 168,-568.25\"/>\n",
       "<text text-anchor=\"start\" x=\"172.62\" y=\"-575.75\" font-family=\"Linux libertine\" font-size=\"10.00\">output: </text>\n",
       "<polygon fill=\"none\" stroke=\"black\" points=\"211,-568.25 211,-590.25 264,-590.25 264,-568.25 211,-568.25\"/>\n",
       "<text text-anchor=\"start\" x=\"215.75\" y=\"-575.75\" font-family=\"Linux libertine\" font-size=\"10.00\">(6, 1, 64) </text>\n",
       "</g>\n",
       "<!-- 1&#45;&gt;2 -->\n",
       "<g id=\"edge2\" class=\"edge\">\n",
       "<title>1&#45;&gt;2</title>\n",
       "<path fill=\"none\" stroke=\"black\" d=\"M175.47,-568.35C167.59,-559.69 158.32,-549.51 149.81,-540.16\"/>\n",
       "<polygon fill=\"black\" stroke=\"black\" points=\"152.9,-538.25 143.58,-533.21 147.72,-542.96 152.9,-538.25\"/>\n",
       "</g>\n",
       "<!-- 3 -->\n",
       "<g id=\"node4\" class=\"node\">\n",
       "<title>3</title>\n",
       "<polygon fill=\"aliceblue\" stroke=\"none\" points=\"205.5,-452.25 41.5,-452.25 41.5,-408.25 205.5,-408.25 205.5,-452.25\"/>\n",
       "<polygon fill=\"none\" stroke=\"black\" points=\"41.5,-408.25 41.5,-452.25 104.5,-452.25 104.5,-408.25 41.5,-408.25\"/>\n",
       "<text text-anchor=\"start\" x=\"46.38\" y=\"-432.75\" font-family=\"Linux libertine\" font-size=\"10.00\">__getitem__</text>\n",
       "<text text-anchor=\"start\" x=\"56.5\" y=\"-420.75\" font-family=\"Linux libertine\" font-size=\"10.00\">depth:1</text>\n",
       "<polygon fill=\"none\" stroke=\"black\" points=\"104.5,-430.25 104.5,-452.25 147.5,-452.25 147.5,-430.25 104.5,-430.25\"/>\n",
       "<text text-anchor=\"start\" x=\"113.62\" y=\"-437.75\" font-family=\"Linux libertine\" font-size=\"10.00\">input:</text>\n",
       "<polygon fill=\"none\" stroke=\"black\" points=\"147.5,-430.25 147.5,-452.25 205.5,-452.25 205.5,-430.25 147.5,-430.25\"/>\n",
       "<text text-anchor=\"start\" x=\"152.12\" y=\"-437.75\" font-family=\"Linux libertine\" font-size=\"10.00\">(1, 8, 128) </text>\n",
       "<polygon fill=\"none\" stroke=\"black\" points=\"104.5,-408.25 104.5,-430.25 147.5,-430.25 147.5,-408.25 104.5,-408.25\"/>\n",
       "<text text-anchor=\"start\" x=\"109.12\" y=\"-415.75\" font-family=\"Linux libertine\" font-size=\"10.00\">output: </text>\n",
       "<polygon fill=\"none\" stroke=\"black\" points=\"147.5,-408.25 147.5,-430.25 205.5,-430.25 205.5,-408.25 147.5,-408.25\"/>\n",
       "<text text-anchor=\"start\" x=\"157.75\" y=\"-415.75\" font-family=\"Linux libertine\" font-size=\"10.00\">(1, 128) </text>\n",
       "</g>\n",
       "<!-- 2&#45;&gt;3 -->\n",
       "<g id=\"edge3\" class=\"edge\">\n",
       "<title>2&#45;&gt;3</title>\n",
       "<path fill=\"none\" stroke=\"black\" d=\"M123.5,-488.35C123.5,-480.57 123.5,-471.55 123.5,-463.01\"/>\n",
       "<polygon fill=\"black\" stroke=\"black\" points=\"127,-463.21 123.5,-453.21 120,-463.21 127,-463.21\"/>\n",
       "</g>\n",
       "<!-- 4 -->\n",
       "<g id=\"node5\" class=\"node\">\n",
       "<title>4</title>\n",
       "<polygon fill=\"#c1ffc1\" stroke=\"none\" points=\"190,-370 57,-370 57,-326 190,-326 190,-370\"/>\n",
       "<polygon fill=\"none\" stroke=\"black\" points=\"57,-326 57,-370 100,-370 100,-326 57,-326\"/>\n",
       "<text text-anchor=\"start\" x=\"65.38\" y=\"-350.5\" font-family=\"Linux libertine\" font-size=\"10.00\">Linear</text>\n",
       "<text text-anchor=\"start\" x=\"62\" y=\"-338.5\" font-family=\"Linux libertine\" font-size=\"10.00\">depth:2</text>\n",
       "<polygon fill=\"none\" stroke=\"black\" points=\"100,-348 100,-370 143,-370 143,-348 100,-348\"/>\n",
       "<text text-anchor=\"start\" x=\"109.12\" y=\"-355.5\" font-family=\"Linux libertine\" font-size=\"10.00\">input:</text>\n",
       "<polygon fill=\"none\" stroke=\"black\" points=\"143,-348 143,-370 190,-370 190,-348 143,-348\"/>\n",
       "<text text-anchor=\"start\" x=\"147.75\" y=\"-355.5\" font-family=\"Linux libertine\" font-size=\"10.00\">(1, 128) </text>\n",
       "<polygon fill=\"none\" stroke=\"black\" points=\"100,-326 100,-348 143,-348 143,-326 100,-326\"/>\n",
       "<text text-anchor=\"start\" x=\"104.62\" y=\"-333.5\" font-family=\"Linux libertine\" font-size=\"10.00\">output: </text>\n",
       "<polygon fill=\"none\" stroke=\"black\" points=\"143,-326 143,-348 190,-348 190,-326 143,-326\"/>\n",
       "<text text-anchor=\"start\" x=\"150.38\" y=\"-333.5\" font-family=\"Linux libertine\" font-size=\"10.00\">(1, 64) </text>\n",
       "</g>\n",
       "<!-- 3&#45;&gt;4 -->\n",
       "<g id=\"edge4\" class=\"edge\">\n",
       "<title>3&#45;&gt;4</title>\n",
       "<path fill=\"none\" stroke=\"black\" d=\"M123.5,-408.58C123.5,-400.13 123.5,-390.16 123.5,-380.82\"/>\n",
       "<polygon fill=\"black\" stroke=\"black\" points=\"127,-380.88 123.5,-370.88 120,-380.88 127,-380.88\"/>\n",
       "</g>\n",
       "<!-- 5 -->\n",
       "<g id=\"node6\" class=\"node\">\n",
       "<title>5</title>\n",
       "<polygon fill=\"#c1ffc1\" stroke=\"none\" points=\"187.5,-290 59.5,-290 59.5,-246 187.5,-246 187.5,-290\"/>\n",
       "<polygon fill=\"none\" stroke=\"black\" points=\"59.5,-246 59.5,-290 102.5,-290 102.5,-246 59.5,-246\"/>\n",
       "<text text-anchor=\"start\" x=\"70.12\" y=\"-270.5\" font-family=\"Linux libertine\" font-size=\"10.00\">ReLU</text>\n",
       "<text text-anchor=\"start\" x=\"64.5\" y=\"-258.5\" font-family=\"Linux libertine\" font-size=\"10.00\">depth:2</text>\n",
       "<polygon fill=\"none\" stroke=\"black\" points=\"102.5,-268 102.5,-290 145.5,-290 145.5,-268 102.5,-268\"/>\n",
       "<text text-anchor=\"start\" x=\"111.62\" y=\"-275.5\" font-family=\"Linux libertine\" font-size=\"10.00\">input:</text>\n",
       "<polygon fill=\"none\" stroke=\"black\" points=\"145.5,-268 145.5,-290 187.5,-290 187.5,-268 145.5,-268\"/>\n",
       "<text text-anchor=\"start\" x=\"150.38\" y=\"-275.5\" font-family=\"Linux libertine\" font-size=\"10.00\">(1, 64) </text>\n",
       "<polygon fill=\"none\" stroke=\"black\" points=\"102.5,-246 102.5,-268 145.5,-268 145.5,-246 102.5,-246\"/>\n",
       "<text text-anchor=\"start\" x=\"107.12\" y=\"-253.5\" font-family=\"Linux libertine\" font-size=\"10.00\">output: </text>\n",
       "<polygon fill=\"none\" stroke=\"black\" points=\"145.5,-246 145.5,-268 187.5,-268 187.5,-246 145.5,-246\"/>\n",
       "<text text-anchor=\"start\" x=\"150.38\" y=\"-253.5\" font-family=\"Linux libertine\" font-size=\"10.00\">(1, 64) </text>\n",
       "</g>\n",
       "<!-- 4&#45;&gt;5 -->\n",
       "<g id=\"edge5\" class=\"edge\">\n",
       "<title>4&#45;&gt;5</title>\n",
       "<path fill=\"none\" stroke=\"black\" d=\"M123.5,-326.1C123.5,-318.32 123.5,-309.3 123.5,-300.76\"/>\n",
       "<polygon fill=\"black\" stroke=\"black\" points=\"127,-300.96 123.5,-290.96 120,-300.96 127,-300.96\"/>\n",
       "</g>\n",
       "<!-- 6 -->\n",
       "<g id=\"node7\" class=\"node\">\n",
       "<title>6</title>\n",
       "<polygon fill=\"#c1ffc1\" stroke=\"none\" points=\"187.5,-210 59.5,-210 59.5,-166 187.5,-166 187.5,-210\"/>\n",
       "<polygon fill=\"none\" stroke=\"black\" points=\"59.5,-166 59.5,-210 102.5,-210 102.5,-166 59.5,-166\"/>\n",
       "<text text-anchor=\"start\" x=\"64.12\" y=\"-190.5\" font-family=\"Linux libertine\" font-size=\"10.00\">Dropout</text>\n",
       "<text text-anchor=\"start\" x=\"64.5\" y=\"-178.5\" font-family=\"Linux libertine\" font-size=\"10.00\">depth:2</text>\n",
       "<polygon fill=\"none\" stroke=\"black\" points=\"102.5,-188 102.5,-210 145.5,-210 145.5,-188 102.5,-188\"/>\n",
       "<text text-anchor=\"start\" x=\"111.62\" y=\"-195.5\" font-family=\"Linux libertine\" font-size=\"10.00\">input:</text>\n",
       "<polygon fill=\"none\" stroke=\"black\" points=\"145.5,-188 145.5,-210 187.5,-210 187.5,-188 145.5,-188\"/>\n",
       "<text text-anchor=\"start\" x=\"150.38\" y=\"-195.5\" font-family=\"Linux libertine\" font-size=\"10.00\">(1, 64) </text>\n",
       "<polygon fill=\"none\" stroke=\"black\" points=\"102.5,-166 102.5,-188 145.5,-188 145.5,-166 102.5,-166\"/>\n",
       "<text text-anchor=\"start\" x=\"107.12\" y=\"-173.5\" font-family=\"Linux libertine\" font-size=\"10.00\">output: </text>\n",
       "<polygon fill=\"none\" stroke=\"black\" points=\"145.5,-166 145.5,-188 187.5,-188 187.5,-166 145.5,-166\"/>\n",
       "<text text-anchor=\"start\" x=\"150.38\" y=\"-173.5\" font-family=\"Linux libertine\" font-size=\"10.00\">(1, 64) </text>\n",
       "</g>\n",
       "<!-- 5&#45;&gt;6 -->\n",
       "<g id=\"edge6\" class=\"edge\">\n",
       "<title>5&#45;&gt;6</title>\n",
       "<path fill=\"none\" stroke=\"black\" d=\"M123.5,-246.1C123.5,-238.32 123.5,-229.3 123.5,-220.76\"/>\n",
       "<polygon fill=\"black\" stroke=\"black\" points=\"127,-220.96 123.5,-210.96 120,-220.96 127,-220.96\"/>\n",
       "</g>\n",
       "<!-- 7 -->\n",
       "<g id=\"node8\" class=\"node\">\n",
       "<title>7</title>\n",
       "<polygon fill=\"#c1ffc1\" stroke=\"none\" points=\"187.5,-130 59.5,-130 59.5,-86 187.5,-86 187.5,-130\"/>\n",
       "<polygon fill=\"none\" stroke=\"black\" points=\"59.5,-86 59.5,-130 102.5,-130 102.5,-86 59.5,-86\"/>\n",
       "<text text-anchor=\"start\" x=\"67.88\" y=\"-110.5\" font-family=\"Linux libertine\" font-size=\"10.00\">Linear</text>\n",
       "<text text-anchor=\"start\" x=\"64.5\" y=\"-98.5\" font-family=\"Linux libertine\" font-size=\"10.00\">depth:2</text>\n",
       "<polygon fill=\"none\" stroke=\"black\" points=\"102.5,-108 102.5,-130 145.5,-130 145.5,-108 102.5,-108\"/>\n",
       "<text text-anchor=\"start\" x=\"111.62\" y=\"-115.5\" font-family=\"Linux libertine\" font-size=\"10.00\">input:</text>\n",
       "<polygon fill=\"none\" stroke=\"black\" points=\"145.5,-108 145.5,-130 187.5,-130 187.5,-108 145.5,-108\"/>\n",
       "<text text-anchor=\"start\" x=\"150.38\" y=\"-115.5\" font-family=\"Linux libertine\" font-size=\"10.00\">(1, 64) </text>\n",
       "<polygon fill=\"none\" stroke=\"black\" points=\"102.5,-86 102.5,-108 145.5,-108 145.5,-86 102.5,-86\"/>\n",
       "<text text-anchor=\"start\" x=\"107.12\" y=\"-93.5\" font-family=\"Linux libertine\" font-size=\"10.00\">output: </text>\n",
       "<polygon fill=\"none\" stroke=\"black\" points=\"145.5,-86 145.5,-108 187.5,-108 187.5,-86 145.5,-86\"/>\n",
       "<text text-anchor=\"start\" x=\"150.38\" y=\"-93.5\" font-family=\"Linux libertine\" font-size=\"10.00\">(1, 10) </text>\n",
       "</g>\n",
       "<!-- 6&#45;&gt;7 -->\n",
       "<g id=\"edge7\" class=\"edge\">\n",
       "<title>6&#45;&gt;7</title>\n",
       "<path fill=\"none\" stroke=\"black\" d=\"M123.5,-166.1C123.5,-158.32 123.5,-149.3 123.5,-140.76\"/>\n",
       "<polygon fill=\"black\" stroke=\"black\" points=\"127,-140.96 123.5,-130.96 120,-140.96 127,-140.96\"/>\n",
       "</g>\n",
       "<!-- 8 -->\n",
       "<g id=\"node9\" class=\"node\">\n",
       "<title>8</title>\n",
       "<polygon fill=\"lightyellow\" stroke=\"none\" points=\"177,-50 70,-50 70,-16 177,-16 177,-50\"/>\n",
       "<polygon fill=\"none\" stroke=\"black\" points=\"70,-16 70,-50 137.75,-50 137.75,-16 70,-16\"/>\n",
       "<text text-anchor=\"start\" x=\"75\" y=\"-35.5\" font-family=\"Linux libertine\" font-size=\"10.00\">output&#45;tensor</text>\n",
       "<text text-anchor=\"start\" x=\"87.38\" y=\"-23.5\" font-family=\"Linux libertine\" font-size=\"10.00\">depth:0</text>\n",
       "<polygon fill=\"none\" stroke=\"black\" points=\"137.75,-16 137.75,-50 177,-50 177,-16 137.75,-16\"/>\n",
       "<text text-anchor=\"start\" x=\"142.75\" y=\"-29.5\" font-family=\"Linux libertine\" font-size=\"10.00\">(1, 10)</text>\n",
       "</g>\n",
       "<!-- 7&#45;&gt;8 -->\n",
       "<g id=\"edge8\" class=\"edge\">\n",
       "<title>7&#45;&gt;8</title>\n",
       "<path fill=\"none\" stroke=\"black\" d=\"M123.5,-86.28C123.5,-78.28 123.5,-69.03 123.5,-60.55\"/>\n",
       "<polygon fill=\"black\" stroke=\"black\" points=\"127,-60.67 123.5,-50.67 120,-60.67 127,-60.67\"/>\n",
       "</g>\n",
       "</g>\n",
       "</svg>\n"
      ],
      "text/plain": [
       "<graphviz.graphs.Digraph at 0x13a5185bb20>"
      ]
     },
     "execution_count": 66,
     "metadata": {},
     "output_type": "execute_result"
    }
   ],
   "source": [
    "graph = draw_graph(model_RNN, input_size=(1, 8, 2), expand_nested=True, save_graph=True, filename='model/RNN_Model')\n",
    "graph.visual_graph"
   ]
  },
  {
   "cell_type": "code",
   "execution_count": 67,
   "metadata": {},
   "outputs": [
    {
     "data": {
      "text/plain": [
       "==========================================================================================\n",
       "Layer (type:depth-idx)                   Output Shape              Param #\n",
       "==========================================================================================\n",
       "GRU                                      [1, 10]                   --\n",
       "├─GRU: 1-1                               [1, 8, 128]               175,104\n",
       "├─Sequential: 1-2                        [1, 10]                   --\n",
       "│    └─Linear: 2-1                       [1, 64]                   8,256\n",
       "│    └─ReLU: 2-2                         [1, 64]                   --\n",
       "│    └─Dropout: 2-3                      [1, 64]                   --\n",
       "│    └─Linear: 2-4                       [1, 10]                   650\n",
       "==========================================================================================\n",
       "Total params: 184,010\n",
       "Trainable params: 184,010\n",
       "Non-trainable params: 0\n",
       "Total mult-adds (M): 1.41\n",
       "==========================================================================================\n",
       "Input size (MB): 0.00\n",
       "Forward/backward pass size (MB): 0.01\n",
       "Params size (MB): 0.74\n",
       "Estimated Total Size (MB): 0.74\n",
       "=========================================================================================="
      ]
     },
     "execution_count": 67,
     "metadata": {},
     "output_type": "execute_result"
    }
   ],
   "source": [
    "# Print the model summary\n",
    "summary(model_GRU, input_size=(1, 8, 2))"
   ]
  },
  {
   "cell_type": "code",
   "execution_count": 68,
   "metadata": {},
   "outputs": [
    {
     "name": "stderr",
     "output_type": "stream",
     "text": [
      "\n",
      "(dot.exe:12148): Pango-WARNING **: couldn't load font \"Linux libertine Not-Rotated 10\", falling back to \"Sans Not-Rotated 10\", expect ugly output.\n",
      "\n",
      "(dot.exe:11496): Pango-WARNING **: couldn't load font \"Linux libertine Not-Rotated 10\", falling back to \"Sans Not-Rotated 10\", expect ugly output.\n"
     ]
    },
    {
     "data": {
      "image/svg+xml": [
       "<?xml version=\"1.0\" encoding=\"UTF-8\" standalone=\"no\"?>\n",
       "<!DOCTYPE svg PUBLIC \"-//W3C//DTD SVG 1.1//EN\"\n",
       " \"http://www.w3.org/Graphics/SVG/1.1/DTD/svg11.dtd\">\n",
       "<!-- Generated by graphviz version 8.0.5 (20230430.1635)\n",
       " -->\n",
       "<!-- Title: model Pages: 1 -->\n",
       "<svg width=\"272pt\" height=\"620pt\"\n",
       " viewBox=\"0.00 0.00 272.00 620.25\" xmlns=\"http://www.w3.org/2000/svg\" xmlns:xlink=\"http://www.w3.org/1999/xlink\">\n",
       "<g id=\"graph0\" class=\"graph\" transform=\"scale(1 1) rotate(0) translate(4 616.25)\">\n",
       "<title>model</title>\n",
       "<polygon fill=\"white\" stroke=\"none\" points=\"-4,4 -4,-616.25 268,-616.25 268,4 -4,4\"/>\n",
       "<g id=\"clust1\" class=\"cluster\">\n",
       "<title>cluster_2</title>\n",
       "<polygon fill=\"none\" stroke=\"black\" stroke-dasharray=\"5,2\" points=\"48.5,-8 48.5,-400.25 198.5,-400.25 198.5,-8 48.5,-8\"/>\n",
       "<text text-anchor=\"middle\" x=\"79.75\" y=\"-384.85\" font-family=\"Times New Roman,serif\" font-size=\"12.00\">Sequential</text>\n",
       "</g>\n",
       "<!-- 0 -->\n",
       "<g id=\"node1\" class=\"node\">\n",
       "<title>0</title>\n",
       "<polygon fill=\"lightyellow\" stroke=\"none\" points=\"107,-607.25 0,-607.25 0,-573.25 107,-573.25 107,-607.25\"/>\n",
       "<polygon fill=\"none\" stroke=\"black\" points=\"0,-573.25 0,-607.25 61.75,-607.25 61.75,-573.25 0,-573.25\"/>\n",
       "<text text-anchor=\"start\" x=\"5\" y=\"-592.75\" font-family=\"Linux libertine\" font-size=\"10.00\">input&#45;tensor</text>\n",
       "<text text-anchor=\"start\" x=\"14.38\" y=\"-580.75\" font-family=\"Linux libertine\" font-size=\"10.00\">depth:0</text>\n",
       "<polygon fill=\"none\" stroke=\"black\" points=\"61.75,-573.25 61.75,-607.25 107,-607.25 107,-573.25 61.75,-573.25\"/>\n",
       "<text text-anchor=\"start\" x=\"66.75\" y=\"-586.75\" font-family=\"Linux libertine\" font-size=\"10.00\">(1, 8, 2)</text>\n",
       "</g>\n",
       "<!-- 2 -->\n",
       "<g id=\"node3\" class=\"node\">\n",
       "<title>2</title>\n",
       "<polygon fill=\"#c1ffc1\" stroke=\"none\" points=\"219,-532.25 28,-532.25 28,-488.25 219,-488.25 219,-532.25\"/>\n",
       "<polygon fill=\"none\" stroke=\"black\" points=\"28,-488.25 28,-532.25 71,-532.25 71,-488.25 28,-488.25\"/>\n",
       "<text text-anchor=\"start\" x=\"40.5\" y=\"-512.75\" font-family=\"Linux libertine\" font-size=\"10.00\">GRU</text>\n",
       "<text text-anchor=\"start\" x=\"33\" y=\"-500.75\" font-family=\"Linux libertine\" font-size=\"10.00\">depth:1</text>\n",
       "<polygon fill=\"none\" stroke=\"black\" points=\"71,-510.25 71,-532.25 114,-532.25 114,-510.25 71,-510.25\"/>\n",
       "<text text-anchor=\"start\" x=\"80.12\" y=\"-517.75\" font-family=\"Linux libertine\" font-size=\"10.00\">input:</text>\n",
       "<polygon fill=\"none\" stroke=\"black\" points=\"114,-510.25 114,-532.25 219,-532.25 219,-510.25 114,-510.25\"/>\n",
       "<text text-anchor=\"start\" x=\"124.12\" y=\"-517.75\" font-family=\"Linux libertine\" font-size=\"10.00\">(1, 8, 2), (6, 1, 64) </text>\n",
       "<polygon fill=\"none\" stroke=\"black\" points=\"71,-488.25 71,-510.25 114,-510.25 114,-488.25 71,-488.25\"/>\n",
       "<text text-anchor=\"start\" x=\"75.62\" y=\"-495.75\" font-family=\"Linux libertine\" font-size=\"10.00\">output: </text>\n",
       "<polygon fill=\"none\" stroke=\"black\" points=\"114,-488.25 114,-510.25 219,-510.25 219,-488.25 114,-488.25\"/>\n",
       "<text text-anchor=\"start\" x=\"118.88\" y=\"-495.75\" font-family=\"Linux libertine\" font-size=\"10.00\">(1, 8, 128), (6, 1, 64) </text>\n",
       "</g>\n",
       "<!-- 0&#45;&gt;2 -->\n",
       "<g id=\"edge1\" class=\"edge\">\n",
       "<title>0&#45;&gt;2</title>\n",
       "<path fill=\"none\" stroke=\"black\" d=\"M67.67,-573.47C76.28,-563.87 87.54,-551.31 97.7,-540\"/>\n",
       "<polygon fill=\"black\" stroke=\"black\" points=\"99.76,-542.82 103.84,-533.04 94.55,-538.15 99.76,-542.82\"/>\n",
       "</g>\n",
       "<!-- 1 -->\n",
       "<g id=\"node2\" class=\"node\">\n",
       "<title>1</title>\n",
       "<polygon fill=\"aliceblue\" stroke=\"none\" points=\"264,-612.25 125,-612.25 125,-568.25 264,-568.25 264,-612.25\"/>\n",
       "<polygon fill=\"none\" stroke=\"black\" points=\"125,-568.25 125,-612.25 168,-612.25 168,-568.25 125,-568.25\"/>\n",
       "<text text-anchor=\"start\" x=\"142.38\" y=\"-592.75\" font-family=\"Linux libertine\" font-size=\"10.00\">to</text>\n",
       "<text text-anchor=\"start\" x=\"130\" y=\"-580.75\" font-family=\"Linux libertine\" font-size=\"10.00\">depth:1</text>\n",
       "<polygon fill=\"none\" stroke=\"black\" points=\"168,-590.25 168,-612.25 211,-612.25 211,-590.25 168,-590.25\"/>\n",
       "<text text-anchor=\"start\" x=\"177.12\" y=\"-597.75\" font-family=\"Linux libertine\" font-size=\"10.00\">input:</text>\n",
       "<polygon fill=\"none\" stroke=\"black\" points=\"211,-590.25 211,-612.25 264,-612.25 264,-590.25 211,-590.25\"/>\n",
       "<text text-anchor=\"start\" x=\"215.75\" y=\"-597.75\" font-family=\"Linux libertine\" font-size=\"10.00\">(6, 1, 64) </text>\n",
       "<polygon fill=\"none\" stroke=\"black\" points=\"168,-568.25 168,-590.25 211,-590.25 211,-568.25 168,-568.25\"/>\n",
       "<text text-anchor=\"start\" x=\"172.62\" y=\"-575.75\" font-family=\"Linux libertine\" font-size=\"10.00\">output: </text>\n",
       "<polygon fill=\"none\" stroke=\"black\" points=\"211,-568.25 211,-590.25 264,-590.25 264,-568.25 211,-568.25\"/>\n",
       "<text text-anchor=\"start\" x=\"215.75\" y=\"-575.75\" font-family=\"Linux libertine\" font-size=\"10.00\">(6, 1, 64) </text>\n",
       "</g>\n",
       "<!-- 1&#45;&gt;2 -->\n",
       "<g id=\"edge2\" class=\"edge\">\n",
       "<title>1&#45;&gt;2</title>\n",
       "<path fill=\"none\" stroke=\"black\" d=\"M175.47,-568.35C167.59,-559.69 158.32,-549.51 149.81,-540.16\"/>\n",
       "<polygon fill=\"black\" stroke=\"black\" points=\"152.9,-538.25 143.58,-533.21 147.72,-542.96 152.9,-538.25\"/>\n",
       "</g>\n",
       "<!-- 3 -->\n",
       "<g id=\"node4\" class=\"node\">\n",
       "<title>3</title>\n",
       "<polygon fill=\"aliceblue\" stroke=\"none\" points=\"205.5,-452.25 41.5,-452.25 41.5,-408.25 205.5,-408.25 205.5,-452.25\"/>\n",
       "<polygon fill=\"none\" stroke=\"black\" points=\"41.5,-408.25 41.5,-452.25 104.5,-452.25 104.5,-408.25 41.5,-408.25\"/>\n",
       "<text text-anchor=\"start\" x=\"46.38\" y=\"-432.75\" font-family=\"Linux libertine\" font-size=\"10.00\">__getitem__</text>\n",
       "<text text-anchor=\"start\" x=\"56.5\" y=\"-420.75\" font-family=\"Linux libertine\" font-size=\"10.00\">depth:1</text>\n",
       "<polygon fill=\"none\" stroke=\"black\" points=\"104.5,-430.25 104.5,-452.25 147.5,-452.25 147.5,-430.25 104.5,-430.25\"/>\n",
       "<text text-anchor=\"start\" x=\"113.62\" y=\"-437.75\" font-family=\"Linux libertine\" font-size=\"10.00\">input:</text>\n",
       "<polygon fill=\"none\" stroke=\"black\" points=\"147.5,-430.25 147.5,-452.25 205.5,-452.25 205.5,-430.25 147.5,-430.25\"/>\n",
       "<text text-anchor=\"start\" x=\"152.12\" y=\"-437.75\" font-family=\"Linux libertine\" font-size=\"10.00\">(1, 8, 128) </text>\n",
       "<polygon fill=\"none\" stroke=\"black\" points=\"104.5,-408.25 104.5,-430.25 147.5,-430.25 147.5,-408.25 104.5,-408.25\"/>\n",
       "<text text-anchor=\"start\" x=\"109.12\" y=\"-415.75\" font-family=\"Linux libertine\" font-size=\"10.00\">output: </text>\n",
       "<polygon fill=\"none\" stroke=\"black\" points=\"147.5,-408.25 147.5,-430.25 205.5,-430.25 205.5,-408.25 147.5,-408.25\"/>\n",
       "<text text-anchor=\"start\" x=\"157.75\" y=\"-415.75\" font-family=\"Linux libertine\" font-size=\"10.00\">(1, 128) </text>\n",
       "</g>\n",
       "<!-- 2&#45;&gt;3 -->\n",
       "<g id=\"edge3\" class=\"edge\">\n",
       "<title>2&#45;&gt;3</title>\n",
       "<path fill=\"none\" stroke=\"black\" d=\"M123.5,-488.35C123.5,-480.57 123.5,-471.55 123.5,-463.01\"/>\n",
       "<polygon fill=\"black\" stroke=\"black\" points=\"127,-463.21 123.5,-453.21 120,-463.21 127,-463.21\"/>\n",
       "</g>\n",
       "<!-- 4 -->\n",
       "<g id=\"node5\" class=\"node\">\n",
       "<title>4</title>\n",
       "<polygon fill=\"#c1ffc1\" stroke=\"none\" points=\"190,-370 57,-370 57,-326 190,-326 190,-370\"/>\n",
       "<polygon fill=\"none\" stroke=\"black\" points=\"57,-326 57,-370 100,-370 100,-326 57,-326\"/>\n",
       "<text text-anchor=\"start\" x=\"65.38\" y=\"-350.5\" font-family=\"Linux libertine\" font-size=\"10.00\">Linear</text>\n",
       "<text text-anchor=\"start\" x=\"62\" y=\"-338.5\" font-family=\"Linux libertine\" font-size=\"10.00\">depth:2</text>\n",
       "<polygon fill=\"none\" stroke=\"black\" points=\"100,-348 100,-370 143,-370 143,-348 100,-348\"/>\n",
       "<text text-anchor=\"start\" x=\"109.12\" y=\"-355.5\" font-family=\"Linux libertine\" font-size=\"10.00\">input:</text>\n",
       "<polygon fill=\"none\" stroke=\"black\" points=\"143,-348 143,-370 190,-370 190,-348 143,-348\"/>\n",
       "<text text-anchor=\"start\" x=\"147.75\" y=\"-355.5\" font-family=\"Linux libertine\" font-size=\"10.00\">(1, 128) </text>\n",
       "<polygon fill=\"none\" stroke=\"black\" points=\"100,-326 100,-348 143,-348 143,-326 100,-326\"/>\n",
       "<text text-anchor=\"start\" x=\"104.62\" y=\"-333.5\" font-family=\"Linux libertine\" font-size=\"10.00\">output: </text>\n",
       "<polygon fill=\"none\" stroke=\"black\" points=\"143,-326 143,-348 190,-348 190,-326 143,-326\"/>\n",
       "<text text-anchor=\"start\" x=\"150.38\" y=\"-333.5\" font-family=\"Linux libertine\" font-size=\"10.00\">(1, 64) </text>\n",
       "</g>\n",
       "<!-- 3&#45;&gt;4 -->\n",
       "<g id=\"edge4\" class=\"edge\">\n",
       "<title>3&#45;&gt;4</title>\n",
       "<path fill=\"none\" stroke=\"black\" d=\"M123.5,-408.58C123.5,-400.13 123.5,-390.16 123.5,-380.82\"/>\n",
       "<polygon fill=\"black\" stroke=\"black\" points=\"127,-380.88 123.5,-370.88 120,-380.88 127,-380.88\"/>\n",
       "</g>\n",
       "<!-- 5 -->\n",
       "<g id=\"node6\" class=\"node\">\n",
       "<title>5</title>\n",
       "<polygon fill=\"#c1ffc1\" stroke=\"none\" points=\"187.5,-290 59.5,-290 59.5,-246 187.5,-246 187.5,-290\"/>\n",
       "<polygon fill=\"none\" stroke=\"black\" points=\"59.5,-246 59.5,-290 102.5,-290 102.5,-246 59.5,-246\"/>\n",
       "<text text-anchor=\"start\" x=\"70.12\" y=\"-270.5\" font-family=\"Linux libertine\" font-size=\"10.00\">ReLU</text>\n",
       "<text text-anchor=\"start\" x=\"64.5\" y=\"-258.5\" font-family=\"Linux libertine\" font-size=\"10.00\">depth:2</text>\n",
       "<polygon fill=\"none\" stroke=\"black\" points=\"102.5,-268 102.5,-290 145.5,-290 145.5,-268 102.5,-268\"/>\n",
       "<text text-anchor=\"start\" x=\"111.62\" y=\"-275.5\" font-family=\"Linux libertine\" font-size=\"10.00\">input:</text>\n",
       "<polygon fill=\"none\" stroke=\"black\" points=\"145.5,-268 145.5,-290 187.5,-290 187.5,-268 145.5,-268\"/>\n",
       "<text text-anchor=\"start\" x=\"150.38\" y=\"-275.5\" font-family=\"Linux libertine\" font-size=\"10.00\">(1, 64) </text>\n",
       "<polygon fill=\"none\" stroke=\"black\" points=\"102.5,-246 102.5,-268 145.5,-268 145.5,-246 102.5,-246\"/>\n",
       "<text text-anchor=\"start\" x=\"107.12\" y=\"-253.5\" font-family=\"Linux libertine\" font-size=\"10.00\">output: </text>\n",
       "<polygon fill=\"none\" stroke=\"black\" points=\"145.5,-246 145.5,-268 187.5,-268 187.5,-246 145.5,-246\"/>\n",
       "<text text-anchor=\"start\" x=\"150.38\" y=\"-253.5\" font-family=\"Linux libertine\" font-size=\"10.00\">(1, 64) </text>\n",
       "</g>\n",
       "<!-- 4&#45;&gt;5 -->\n",
       "<g id=\"edge5\" class=\"edge\">\n",
       "<title>4&#45;&gt;5</title>\n",
       "<path fill=\"none\" stroke=\"black\" d=\"M123.5,-326.1C123.5,-318.32 123.5,-309.3 123.5,-300.76\"/>\n",
       "<polygon fill=\"black\" stroke=\"black\" points=\"127,-300.96 123.5,-290.96 120,-300.96 127,-300.96\"/>\n",
       "</g>\n",
       "<!-- 6 -->\n",
       "<g id=\"node7\" class=\"node\">\n",
       "<title>6</title>\n",
       "<polygon fill=\"#c1ffc1\" stroke=\"none\" points=\"187.5,-210 59.5,-210 59.5,-166 187.5,-166 187.5,-210\"/>\n",
       "<polygon fill=\"none\" stroke=\"black\" points=\"59.5,-166 59.5,-210 102.5,-210 102.5,-166 59.5,-166\"/>\n",
       "<text text-anchor=\"start\" x=\"64.12\" y=\"-190.5\" font-family=\"Linux libertine\" font-size=\"10.00\">Dropout</text>\n",
       "<text text-anchor=\"start\" x=\"64.5\" y=\"-178.5\" font-family=\"Linux libertine\" font-size=\"10.00\">depth:2</text>\n",
       "<polygon fill=\"none\" stroke=\"black\" points=\"102.5,-188 102.5,-210 145.5,-210 145.5,-188 102.5,-188\"/>\n",
       "<text text-anchor=\"start\" x=\"111.62\" y=\"-195.5\" font-family=\"Linux libertine\" font-size=\"10.00\">input:</text>\n",
       "<polygon fill=\"none\" stroke=\"black\" points=\"145.5,-188 145.5,-210 187.5,-210 187.5,-188 145.5,-188\"/>\n",
       "<text text-anchor=\"start\" x=\"150.38\" y=\"-195.5\" font-family=\"Linux libertine\" font-size=\"10.00\">(1, 64) </text>\n",
       "<polygon fill=\"none\" stroke=\"black\" points=\"102.5,-166 102.5,-188 145.5,-188 145.5,-166 102.5,-166\"/>\n",
       "<text text-anchor=\"start\" x=\"107.12\" y=\"-173.5\" font-family=\"Linux libertine\" font-size=\"10.00\">output: </text>\n",
       "<polygon fill=\"none\" stroke=\"black\" points=\"145.5,-166 145.5,-188 187.5,-188 187.5,-166 145.5,-166\"/>\n",
       "<text text-anchor=\"start\" x=\"150.38\" y=\"-173.5\" font-family=\"Linux libertine\" font-size=\"10.00\">(1, 64) </text>\n",
       "</g>\n",
       "<!-- 5&#45;&gt;6 -->\n",
       "<g id=\"edge6\" class=\"edge\">\n",
       "<title>5&#45;&gt;6</title>\n",
       "<path fill=\"none\" stroke=\"black\" d=\"M123.5,-246.1C123.5,-238.32 123.5,-229.3 123.5,-220.76\"/>\n",
       "<polygon fill=\"black\" stroke=\"black\" points=\"127,-220.96 123.5,-210.96 120,-220.96 127,-220.96\"/>\n",
       "</g>\n",
       "<!-- 7 -->\n",
       "<g id=\"node8\" class=\"node\">\n",
       "<title>7</title>\n",
       "<polygon fill=\"#c1ffc1\" stroke=\"none\" points=\"187.5,-130 59.5,-130 59.5,-86 187.5,-86 187.5,-130\"/>\n",
       "<polygon fill=\"none\" stroke=\"black\" points=\"59.5,-86 59.5,-130 102.5,-130 102.5,-86 59.5,-86\"/>\n",
       "<text text-anchor=\"start\" x=\"67.88\" y=\"-110.5\" font-family=\"Linux libertine\" font-size=\"10.00\">Linear</text>\n",
       "<text text-anchor=\"start\" x=\"64.5\" y=\"-98.5\" font-family=\"Linux libertine\" font-size=\"10.00\">depth:2</text>\n",
       "<polygon fill=\"none\" stroke=\"black\" points=\"102.5,-108 102.5,-130 145.5,-130 145.5,-108 102.5,-108\"/>\n",
       "<text text-anchor=\"start\" x=\"111.62\" y=\"-115.5\" font-family=\"Linux libertine\" font-size=\"10.00\">input:</text>\n",
       "<polygon fill=\"none\" stroke=\"black\" points=\"145.5,-108 145.5,-130 187.5,-130 187.5,-108 145.5,-108\"/>\n",
       "<text text-anchor=\"start\" x=\"150.38\" y=\"-115.5\" font-family=\"Linux libertine\" font-size=\"10.00\">(1, 64) </text>\n",
       "<polygon fill=\"none\" stroke=\"black\" points=\"102.5,-86 102.5,-108 145.5,-108 145.5,-86 102.5,-86\"/>\n",
       "<text text-anchor=\"start\" x=\"107.12\" y=\"-93.5\" font-family=\"Linux libertine\" font-size=\"10.00\">output: </text>\n",
       "<polygon fill=\"none\" stroke=\"black\" points=\"145.5,-86 145.5,-108 187.5,-108 187.5,-86 145.5,-86\"/>\n",
       "<text text-anchor=\"start\" x=\"150.38\" y=\"-93.5\" font-family=\"Linux libertine\" font-size=\"10.00\">(1, 10) </text>\n",
       "</g>\n",
       "<!-- 6&#45;&gt;7 -->\n",
       "<g id=\"edge7\" class=\"edge\">\n",
       "<title>6&#45;&gt;7</title>\n",
       "<path fill=\"none\" stroke=\"black\" d=\"M123.5,-166.1C123.5,-158.32 123.5,-149.3 123.5,-140.76\"/>\n",
       "<polygon fill=\"black\" stroke=\"black\" points=\"127,-140.96 123.5,-130.96 120,-140.96 127,-140.96\"/>\n",
       "</g>\n",
       "<!-- 8 -->\n",
       "<g id=\"node9\" class=\"node\">\n",
       "<title>8</title>\n",
       "<polygon fill=\"lightyellow\" stroke=\"none\" points=\"177,-50 70,-50 70,-16 177,-16 177,-50\"/>\n",
       "<polygon fill=\"none\" stroke=\"black\" points=\"70,-16 70,-50 137.75,-50 137.75,-16 70,-16\"/>\n",
       "<text text-anchor=\"start\" x=\"75\" y=\"-35.5\" font-family=\"Linux libertine\" font-size=\"10.00\">output&#45;tensor</text>\n",
       "<text text-anchor=\"start\" x=\"87.38\" y=\"-23.5\" font-family=\"Linux libertine\" font-size=\"10.00\">depth:0</text>\n",
       "<polygon fill=\"none\" stroke=\"black\" points=\"137.75,-16 137.75,-50 177,-50 177,-16 137.75,-16\"/>\n",
       "<text text-anchor=\"start\" x=\"142.75\" y=\"-29.5\" font-family=\"Linux libertine\" font-size=\"10.00\">(1, 10)</text>\n",
       "</g>\n",
       "<!-- 7&#45;&gt;8 -->\n",
       "<g id=\"edge8\" class=\"edge\">\n",
       "<title>7&#45;&gt;8</title>\n",
       "<path fill=\"none\" stroke=\"black\" d=\"M123.5,-86.28C123.5,-78.28 123.5,-69.03 123.5,-60.55\"/>\n",
       "<polygon fill=\"black\" stroke=\"black\" points=\"127,-60.67 123.5,-50.67 120,-60.67 127,-60.67\"/>\n",
       "</g>\n",
       "</g>\n",
       "</svg>\n"
      ],
      "text/plain": [
       "<graphviz.graphs.Digraph at 0x13a45d5cf40>"
      ]
     },
     "execution_count": 68,
     "metadata": {},
     "output_type": "execute_result"
    }
   ],
   "source": [
    "graph = draw_graph(model_GRU, input_size=(1, 8, 2), expand_nested=True, save_graph=True, filename='model/GRU_Model')\n",
    "graph.visual_graph"
   ]
  },
  {
   "cell_type": "code",
   "execution_count": 69,
   "metadata": {},
   "outputs": [
    {
     "data": {
      "text/plain": [
       "==========================================================================================\n",
       "Layer (type:depth-idx)                   Output Shape              Param #\n",
       "==========================================================================================\n",
       "LSTM                                     [1, 10]                   --\n",
       "├─LSTM: 1-1                              [1, 8, 128]               233,472\n",
       "├─Sequential: 1-2                        [1, 10]                   --\n",
       "│    └─Linear: 2-1                       [1, 64]                   8,256\n",
       "│    └─ReLU: 2-2                         [1, 64]                   --\n",
       "│    └─Dropout: 2-3                      [1, 64]                   --\n",
       "│    └─Linear: 2-4                       [1, 10]                   650\n",
       "==========================================================================================\n",
       "Total params: 242,378\n",
       "Trainable params: 242,378\n",
       "Non-trainable params: 0\n",
       "Total mult-adds (M): 1.88\n",
       "==========================================================================================\n",
       "Input size (MB): 0.00\n",
       "Forward/backward pass size (MB): 0.01\n",
       "Params size (MB): 0.97\n",
       "Estimated Total Size (MB): 0.98\n",
       "=========================================================================================="
      ]
     },
     "execution_count": 69,
     "metadata": {},
     "output_type": "execute_result"
    }
   ],
   "source": [
    "# Print the model summary\n",
    "summary(model_LSTM, input_size=(1, 8, 2))"
   ]
  },
  {
   "cell_type": "code",
   "execution_count": 70,
   "metadata": {},
   "outputs": [
    {
     "name": "stderr",
     "output_type": "stream",
     "text": [
      "\n",
      "(dot.exe:7672): Pango-WARNING **: couldn't load font \"Linux libertine Not-Rotated 10\", falling back to \"Sans Not-Rotated 10\", expect ugly output.\n",
      "\n",
      "(dot.exe:16696): Pango-WARNING **: couldn't load font \"Linux libertine Not-Rotated 10\", falling back to \"Sans Not-Rotated 10\", expect ugly output.\n"
     ]
    },
    {
     "data": {
      "image/svg+xml": [
       "<?xml version=\"1.0\" encoding=\"UTF-8\" standalone=\"no\"?>\n",
       "<!DOCTYPE svg PUBLIC \"-//W3C//DTD SVG 1.1//EN\"\n",
       " \"http://www.w3.org/Graphics/SVG/1.1/DTD/svg11.dtd\">\n",
       "<!-- Generated by graphviz version 8.0.5 (20230430.1635)\n",
       " -->\n",
       "<!-- Title: model Pages: 1 -->\n",
       "<svg width=\"429pt\" height=\"620pt\"\n",
       " viewBox=\"0.00 0.00 429.00 620.25\" xmlns=\"http://www.w3.org/2000/svg\" xmlns:xlink=\"http://www.w3.org/1999/xlink\">\n",
       "<g id=\"graph0\" class=\"graph\" transform=\"scale(1 1) rotate(0) translate(4 616.25)\">\n",
       "<title>model</title>\n",
       "<polygon fill=\"white\" stroke=\"none\" points=\"-4,4 -4,-616.25 425,-616.25 425,4 -4,4\"/>\n",
       "<g id=\"clust1\" class=\"cluster\">\n",
       "<title>cluster_2</title>\n",
       "<polygon fill=\"none\" stroke=\"black\" stroke-dasharray=\"5,2\" points=\"119.5,-8 119.5,-400.25 269.5,-400.25 269.5,-8 119.5,-8\"/>\n",
       "<text text-anchor=\"middle\" x=\"150.75\" y=\"-384.85\" font-family=\"Times New Roman,serif\" font-size=\"12.00\">Sequential</text>\n",
       "</g>\n",
       "<!-- 0 -->\n",
       "<g id=\"node1\" class=\"node\">\n",
       "<title>0</title>\n",
       "<polygon fill=\"lightyellow\" stroke=\"none\" points=\"107,-607.25 0,-607.25 0,-573.25 107,-573.25 107,-607.25\"/>\n",
       "<polygon fill=\"none\" stroke=\"black\" points=\"0,-573.25 0,-607.25 61.75,-607.25 61.75,-573.25 0,-573.25\"/>\n",
       "<text text-anchor=\"start\" x=\"5\" y=\"-592.75\" font-family=\"Linux libertine\" font-size=\"10.00\">input&#45;tensor</text>\n",
       "<text text-anchor=\"start\" x=\"14.38\" y=\"-580.75\" font-family=\"Linux libertine\" font-size=\"10.00\">depth:0</text>\n",
       "<polygon fill=\"none\" stroke=\"black\" points=\"61.75,-573.25 61.75,-607.25 107,-607.25 107,-573.25 61.75,-573.25\"/>\n",
       "<text text-anchor=\"start\" x=\"66.75\" y=\"-586.75\" font-family=\"Linux libertine\" font-size=\"10.00\">(1, 8, 2)</text>\n",
       "</g>\n",
       "<!-- 3 -->\n",
       "<g id=\"node4\" class=\"node\">\n",
       "<title>3</title>\n",
       "<polygon fill=\"#c1ffc1\" stroke=\"none\" points=\"298,-532.25 91,-532.25 91,-488.25 298,-488.25 298,-532.25\"/>\n",
       "<polygon fill=\"none\" stroke=\"black\" points=\"91,-488.25 91,-532.25 134,-532.25 134,-488.25 91,-488.25\"/>\n",
       "<text text-anchor=\"start\" x=\"100.5\" y=\"-512.75\" font-family=\"Linux libertine\" font-size=\"10.00\">LSTM</text>\n",
       "<text text-anchor=\"start\" x=\"96\" y=\"-500.75\" font-family=\"Linux libertine\" font-size=\"10.00\">depth:1</text>\n",
       "<polygon fill=\"none\" stroke=\"black\" points=\"134,-510.25 134,-532.25 177,-532.25 177,-510.25 134,-510.25\"/>\n",
       "<text text-anchor=\"start\" x=\"143.12\" y=\"-517.75\" font-family=\"Linux libertine\" font-size=\"10.00\">input:</text>\n",
       "<polygon fill=\"none\" stroke=\"black\" points=\"177,-510.25 177,-532.25 298,-532.25 298,-510.25 177,-510.25\"/>\n",
       "<text text-anchor=\"start\" x=\"187.25\" y=\"-517.75\" font-family=\"Linux libertine\" font-size=\"10.00\">(1, 8, 2), 2 x (6, 1, 64) </text>\n",
       "<polygon fill=\"none\" stroke=\"black\" points=\"134,-488.25 134,-510.25 177,-510.25 177,-488.25 134,-488.25\"/>\n",
       "<text text-anchor=\"start\" x=\"138.62\" y=\"-495.75\" font-family=\"Linux libertine\" font-size=\"10.00\">output: </text>\n",
       "<polygon fill=\"none\" stroke=\"black\" points=\"177,-488.25 177,-510.25 298,-510.25 298,-488.25 177,-488.25\"/>\n",
       "<text text-anchor=\"start\" x=\"182\" y=\"-495.75\" font-family=\"Linux libertine\" font-size=\"10.00\">(1, 8, 128), 2 x (6, 1, 64) </text>\n",
       "</g>\n",
       "<!-- 0&#45;&gt;3 -->\n",
       "<g id=\"edge1\" class=\"edge\">\n",
       "<title>0&#45;&gt;3</title>\n",
       "<path fill=\"none\" stroke=\"black\" d=\"M82.37,-573.28C100.96,-563 125.56,-549.39 146.98,-537.54\"/>\n",
       "<polygon fill=\"black\" stroke=\"black\" points=\"148.51,-540.14 155.56,-532.24 145.12,-534.01 148.51,-540.14\"/>\n",
       "</g>\n",
       "<!-- 1 -->\n",
       "<g id=\"node2\" class=\"node\">\n",
       "<title>1</title>\n",
       "<polygon fill=\"aliceblue\" stroke=\"none\" points=\"264,-612.25 125,-612.25 125,-568.25 264,-568.25 264,-612.25\"/>\n",
       "<polygon fill=\"none\" stroke=\"black\" points=\"125,-568.25 125,-612.25 168,-612.25 168,-568.25 125,-568.25\"/>\n",
       "<text text-anchor=\"start\" x=\"142.38\" y=\"-592.75\" font-family=\"Linux libertine\" font-size=\"10.00\">to</text>\n",
       "<text text-anchor=\"start\" x=\"130\" y=\"-580.75\" font-family=\"Linux libertine\" font-size=\"10.00\">depth:1</text>\n",
       "<polygon fill=\"none\" stroke=\"black\" points=\"168,-590.25 168,-612.25 211,-612.25 211,-590.25 168,-590.25\"/>\n",
       "<text text-anchor=\"start\" x=\"177.12\" y=\"-597.75\" font-family=\"Linux libertine\" font-size=\"10.00\">input:</text>\n",
       "<polygon fill=\"none\" stroke=\"black\" points=\"211,-590.25 211,-612.25 264,-612.25 264,-590.25 211,-590.25\"/>\n",
       "<text text-anchor=\"start\" x=\"215.75\" y=\"-597.75\" font-family=\"Linux libertine\" font-size=\"10.00\">(6, 1, 64) </text>\n",
       "<polygon fill=\"none\" stroke=\"black\" points=\"168,-568.25 168,-590.25 211,-590.25 211,-568.25 168,-568.25\"/>\n",
       "<text text-anchor=\"start\" x=\"172.62\" y=\"-575.75\" font-family=\"Linux libertine\" font-size=\"10.00\">output: </text>\n",
       "<polygon fill=\"none\" stroke=\"black\" points=\"211,-568.25 211,-590.25 264,-590.25 264,-568.25 211,-568.25\"/>\n",
       "<text text-anchor=\"start\" x=\"215.75\" y=\"-575.75\" font-family=\"Linux libertine\" font-size=\"10.00\">(6, 1, 64) </text>\n",
       "</g>\n",
       "<!-- 1&#45;&gt;3 -->\n",
       "<g id=\"edge2\" class=\"edge\">\n",
       "<title>1&#45;&gt;3</title>\n",
       "<path fill=\"none\" stroke=\"black\" d=\"M194.5,-568.35C194.5,-560.57 194.5,-551.55 194.5,-543.01\"/>\n",
       "<polygon fill=\"black\" stroke=\"black\" points=\"198,-543.21 194.5,-533.21 191,-543.21 198,-543.21\"/>\n",
       "</g>\n",
       "<!-- 2 -->\n",
       "<g id=\"node3\" class=\"node\">\n",
       "<title>2</title>\n",
       "<polygon fill=\"aliceblue\" stroke=\"none\" points=\"421,-612.25 282,-612.25 282,-568.25 421,-568.25 421,-612.25\"/>\n",
       "<polygon fill=\"none\" stroke=\"black\" points=\"282,-568.25 282,-612.25 325,-612.25 325,-568.25 282,-568.25\"/>\n",
       "<text text-anchor=\"start\" x=\"299.38\" y=\"-592.75\" font-family=\"Linux libertine\" font-size=\"10.00\">to</text>\n",
       "<text text-anchor=\"start\" x=\"287\" y=\"-580.75\" font-family=\"Linux libertine\" font-size=\"10.00\">depth:1</text>\n",
       "<polygon fill=\"none\" stroke=\"black\" points=\"325,-590.25 325,-612.25 368,-612.25 368,-590.25 325,-590.25\"/>\n",
       "<text text-anchor=\"start\" x=\"334.12\" y=\"-597.75\" font-family=\"Linux libertine\" font-size=\"10.00\">input:</text>\n",
       "<polygon fill=\"none\" stroke=\"black\" points=\"368,-590.25 368,-612.25 421,-612.25 421,-590.25 368,-590.25\"/>\n",
       "<text text-anchor=\"start\" x=\"372.75\" y=\"-597.75\" font-family=\"Linux libertine\" font-size=\"10.00\">(6, 1, 64) </text>\n",
       "<polygon fill=\"none\" stroke=\"black\" points=\"325,-568.25 325,-590.25 368,-590.25 368,-568.25 325,-568.25\"/>\n",
       "<text text-anchor=\"start\" x=\"329.62\" y=\"-575.75\" font-family=\"Linux libertine\" font-size=\"10.00\">output: </text>\n",
       "<polygon fill=\"none\" stroke=\"black\" points=\"368,-568.25 368,-590.25 421,-590.25 421,-568.25 368,-568.25\"/>\n",
       "<text text-anchor=\"start\" x=\"372.75\" y=\"-575.75\" font-family=\"Linux libertine\" font-size=\"10.00\">(6, 1, 64) </text>\n",
       "</g>\n",
       "<!-- 2&#45;&gt;3 -->\n",
       "<g id=\"edge3\" class=\"edge\">\n",
       "<title>2&#45;&gt;3</title>\n",
       "<path fill=\"none\" stroke=\"black\" d=\"M309.43,-568.35C290.07,-558.73 266.91,-547.23 246.48,-537.07\"/>\n",
       "<polygon fill=\"black\" stroke=\"black\" points=\"248.2,-533.53 237.69,-532.21 245.09,-539.79 248.2,-533.53\"/>\n",
       "</g>\n",
       "<!-- 4 -->\n",
       "<g id=\"node5\" class=\"node\">\n",
       "<title>4</title>\n",
       "<polygon fill=\"aliceblue\" stroke=\"none\" points=\"276.5,-452.25 112.5,-452.25 112.5,-408.25 276.5,-408.25 276.5,-452.25\"/>\n",
       "<polygon fill=\"none\" stroke=\"black\" points=\"112.5,-408.25 112.5,-452.25 175.5,-452.25 175.5,-408.25 112.5,-408.25\"/>\n",
       "<text text-anchor=\"start\" x=\"117.38\" y=\"-432.75\" font-family=\"Linux libertine\" font-size=\"10.00\">__getitem__</text>\n",
       "<text text-anchor=\"start\" x=\"127.5\" y=\"-420.75\" font-family=\"Linux libertine\" font-size=\"10.00\">depth:1</text>\n",
       "<polygon fill=\"none\" stroke=\"black\" points=\"175.5,-430.25 175.5,-452.25 218.5,-452.25 218.5,-430.25 175.5,-430.25\"/>\n",
       "<text text-anchor=\"start\" x=\"184.62\" y=\"-437.75\" font-family=\"Linux libertine\" font-size=\"10.00\">input:</text>\n",
       "<polygon fill=\"none\" stroke=\"black\" points=\"218.5,-430.25 218.5,-452.25 276.5,-452.25 276.5,-430.25 218.5,-430.25\"/>\n",
       "<text text-anchor=\"start\" x=\"223.12\" y=\"-437.75\" font-family=\"Linux libertine\" font-size=\"10.00\">(1, 8, 128) </text>\n",
       "<polygon fill=\"none\" stroke=\"black\" points=\"175.5,-408.25 175.5,-430.25 218.5,-430.25 218.5,-408.25 175.5,-408.25\"/>\n",
       "<text text-anchor=\"start\" x=\"180.12\" y=\"-415.75\" font-family=\"Linux libertine\" font-size=\"10.00\">output: </text>\n",
       "<polygon fill=\"none\" stroke=\"black\" points=\"218.5,-408.25 218.5,-430.25 276.5,-430.25 276.5,-408.25 218.5,-408.25\"/>\n",
       "<text text-anchor=\"start\" x=\"228.75\" y=\"-415.75\" font-family=\"Linux libertine\" font-size=\"10.00\">(1, 128) </text>\n",
       "</g>\n",
       "<!-- 3&#45;&gt;4 -->\n",
       "<g id=\"edge4\" class=\"edge\">\n",
       "<title>3&#45;&gt;4</title>\n",
       "<path fill=\"none\" stroke=\"black\" d=\"M194.5,-488.35C194.5,-480.57 194.5,-471.55 194.5,-463.01\"/>\n",
       "<polygon fill=\"black\" stroke=\"black\" points=\"198,-463.21 194.5,-453.21 191,-463.21 198,-463.21\"/>\n",
       "</g>\n",
       "<!-- 5 -->\n",
       "<g id=\"node6\" class=\"node\">\n",
       "<title>5</title>\n",
       "<polygon fill=\"#c1ffc1\" stroke=\"none\" points=\"261,-370 128,-370 128,-326 261,-326 261,-370\"/>\n",
       "<polygon fill=\"none\" stroke=\"black\" points=\"128,-326 128,-370 171,-370 171,-326 128,-326\"/>\n",
       "<text text-anchor=\"start\" x=\"136.38\" y=\"-350.5\" font-family=\"Linux libertine\" font-size=\"10.00\">Linear</text>\n",
       "<text text-anchor=\"start\" x=\"133\" y=\"-338.5\" font-family=\"Linux libertine\" font-size=\"10.00\">depth:2</text>\n",
       "<polygon fill=\"none\" stroke=\"black\" points=\"171,-348 171,-370 214,-370 214,-348 171,-348\"/>\n",
       "<text text-anchor=\"start\" x=\"180.12\" y=\"-355.5\" font-family=\"Linux libertine\" font-size=\"10.00\">input:</text>\n",
       "<polygon fill=\"none\" stroke=\"black\" points=\"214,-348 214,-370 261,-370 261,-348 214,-348\"/>\n",
       "<text text-anchor=\"start\" x=\"218.75\" y=\"-355.5\" font-family=\"Linux libertine\" font-size=\"10.00\">(1, 128) </text>\n",
       "<polygon fill=\"none\" stroke=\"black\" points=\"171,-326 171,-348 214,-348 214,-326 171,-326\"/>\n",
       "<text text-anchor=\"start\" x=\"175.62\" y=\"-333.5\" font-family=\"Linux libertine\" font-size=\"10.00\">output: </text>\n",
       "<polygon fill=\"none\" stroke=\"black\" points=\"214,-326 214,-348 261,-348 261,-326 214,-326\"/>\n",
       "<text text-anchor=\"start\" x=\"221.38\" y=\"-333.5\" font-family=\"Linux libertine\" font-size=\"10.00\">(1, 64) </text>\n",
       "</g>\n",
       "<!-- 4&#45;&gt;5 -->\n",
       "<g id=\"edge5\" class=\"edge\">\n",
       "<title>4&#45;&gt;5</title>\n",
       "<path fill=\"none\" stroke=\"black\" d=\"M194.5,-408.58C194.5,-400.13 194.5,-390.16 194.5,-380.82\"/>\n",
       "<polygon fill=\"black\" stroke=\"black\" points=\"198,-380.88 194.5,-370.88 191,-380.88 198,-380.88\"/>\n",
       "</g>\n",
       "<!-- 6 -->\n",
       "<g id=\"node7\" class=\"node\">\n",
       "<title>6</title>\n",
       "<polygon fill=\"#c1ffc1\" stroke=\"none\" points=\"258.5,-290 130.5,-290 130.5,-246 258.5,-246 258.5,-290\"/>\n",
       "<polygon fill=\"none\" stroke=\"black\" points=\"130.5,-246 130.5,-290 173.5,-290 173.5,-246 130.5,-246\"/>\n",
       "<text text-anchor=\"start\" x=\"141.12\" y=\"-270.5\" font-family=\"Linux libertine\" font-size=\"10.00\">ReLU</text>\n",
       "<text text-anchor=\"start\" x=\"135.5\" y=\"-258.5\" font-family=\"Linux libertine\" font-size=\"10.00\">depth:2</text>\n",
       "<polygon fill=\"none\" stroke=\"black\" points=\"173.5,-268 173.5,-290 216.5,-290 216.5,-268 173.5,-268\"/>\n",
       "<text text-anchor=\"start\" x=\"182.62\" y=\"-275.5\" font-family=\"Linux libertine\" font-size=\"10.00\">input:</text>\n",
       "<polygon fill=\"none\" stroke=\"black\" points=\"216.5,-268 216.5,-290 258.5,-290 258.5,-268 216.5,-268\"/>\n",
       "<text text-anchor=\"start\" x=\"221.38\" y=\"-275.5\" font-family=\"Linux libertine\" font-size=\"10.00\">(1, 64) </text>\n",
       "<polygon fill=\"none\" stroke=\"black\" points=\"173.5,-246 173.5,-268 216.5,-268 216.5,-246 173.5,-246\"/>\n",
       "<text text-anchor=\"start\" x=\"178.12\" y=\"-253.5\" font-family=\"Linux libertine\" font-size=\"10.00\">output: </text>\n",
       "<polygon fill=\"none\" stroke=\"black\" points=\"216.5,-246 216.5,-268 258.5,-268 258.5,-246 216.5,-246\"/>\n",
       "<text text-anchor=\"start\" x=\"221.38\" y=\"-253.5\" font-family=\"Linux libertine\" font-size=\"10.00\">(1, 64) </text>\n",
       "</g>\n",
       "<!-- 5&#45;&gt;6 -->\n",
       "<g id=\"edge6\" class=\"edge\">\n",
       "<title>5&#45;&gt;6</title>\n",
       "<path fill=\"none\" stroke=\"black\" d=\"M194.5,-326.1C194.5,-318.32 194.5,-309.3 194.5,-300.76\"/>\n",
       "<polygon fill=\"black\" stroke=\"black\" points=\"198,-300.96 194.5,-290.96 191,-300.96 198,-300.96\"/>\n",
       "</g>\n",
       "<!-- 7 -->\n",
       "<g id=\"node8\" class=\"node\">\n",
       "<title>7</title>\n",
       "<polygon fill=\"#c1ffc1\" stroke=\"none\" points=\"258.5,-210 130.5,-210 130.5,-166 258.5,-166 258.5,-210\"/>\n",
       "<polygon fill=\"none\" stroke=\"black\" points=\"130.5,-166 130.5,-210 173.5,-210 173.5,-166 130.5,-166\"/>\n",
       "<text text-anchor=\"start\" x=\"135.12\" y=\"-190.5\" font-family=\"Linux libertine\" font-size=\"10.00\">Dropout</text>\n",
       "<text text-anchor=\"start\" x=\"135.5\" y=\"-178.5\" font-family=\"Linux libertine\" font-size=\"10.00\">depth:2</text>\n",
       "<polygon fill=\"none\" stroke=\"black\" points=\"173.5,-188 173.5,-210 216.5,-210 216.5,-188 173.5,-188\"/>\n",
       "<text text-anchor=\"start\" x=\"182.62\" y=\"-195.5\" font-family=\"Linux libertine\" font-size=\"10.00\">input:</text>\n",
       "<polygon fill=\"none\" stroke=\"black\" points=\"216.5,-188 216.5,-210 258.5,-210 258.5,-188 216.5,-188\"/>\n",
       "<text text-anchor=\"start\" x=\"221.38\" y=\"-195.5\" font-family=\"Linux libertine\" font-size=\"10.00\">(1, 64) </text>\n",
       "<polygon fill=\"none\" stroke=\"black\" points=\"173.5,-166 173.5,-188 216.5,-188 216.5,-166 173.5,-166\"/>\n",
       "<text text-anchor=\"start\" x=\"178.12\" y=\"-173.5\" font-family=\"Linux libertine\" font-size=\"10.00\">output: </text>\n",
       "<polygon fill=\"none\" stroke=\"black\" points=\"216.5,-166 216.5,-188 258.5,-188 258.5,-166 216.5,-166\"/>\n",
       "<text text-anchor=\"start\" x=\"221.38\" y=\"-173.5\" font-family=\"Linux libertine\" font-size=\"10.00\">(1, 64) </text>\n",
       "</g>\n",
       "<!-- 6&#45;&gt;7 -->\n",
       "<g id=\"edge7\" class=\"edge\">\n",
       "<title>6&#45;&gt;7</title>\n",
       "<path fill=\"none\" stroke=\"black\" d=\"M194.5,-246.1C194.5,-238.32 194.5,-229.3 194.5,-220.76\"/>\n",
       "<polygon fill=\"black\" stroke=\"black\" points=\"198,-220.96 194.5,-210.96 191,-220.96 198,-220.96\"/>\n",
       "</g>\n",
       "<!-- 8 -->\n",
       "<g id=\"node9\" class=\"node\">\n",
       "<title>8</title>\n",
       "<polygon fill=\"#c1ffc1\" stroke=\"none\" points=\"258.5,-130 130.5,-130 130.5,-86 258.5,-86 258.5,-130\"/>\n",
       "<polygon fill=\"none\" stroke=\"black\" points=\"130.5,-86 130.5,-130 173.5,-130 173.5,-86 130.5,-86\"/>\n",
       "<text text-anchor=\"start\" x=\"138.88\" y=\"-110.5\" font-family=\"Linux libertine\" font-size=\"10.00\">Linear</text>\n",
       "<text text-anchor=\"start\" x=\"135.5\" y=\"-98.5\" font-family=\"Linux libertine\" font-size=\"10.00\">depth:2</text>\n",
       "<polygon fill=\"none\" stroke=\"black\" points=\"173.5,-108 173.5,-130 216.5,-130 216.5,-108 173.5,-108\"/>\n",
       "<text text-anchor=\"start\" x=\"182.62\" y=\"-115.5\" font-family=\"Linux libertine\" font-size=\"10.00\">input:</text>\n",
       "<polygon fill=\"none\" stroke=\"black\" points=\"216.5,-108 216.5,-130 258.5,-130 258.5,-108 216.5,-108\"/>\n",
       "<text text-anchor=\"start\" x=\"221.38\" y=\"-115.5\" font-family=\"Linux libertine\" font-size=\"10.00\">(1, 64) </text>\n",
       "<polygon fill=\"none\" stroke=\"black\" points=\"173.5,-86 173.5,-108 216.5,-108 216.5,-86 173.5,-86\"/>\n",
       "<text text-anchor=\"start\" x=\"178.12\" y=\"-93.5\" font-family=\"Linux libertine\" font-size=\"10.00\">output: </text>\n",
       "<polygon fill=\"none\" stroke=\"black\" points=\"216.5,-86 216.5,-108 258.5,-108 258.5,-86 216.5,-86\"/>\n",
       "<text text-anchor=\"start\" x=\"221.38\" y=\"-93.5\" font-family=\"Linux libertine\" font-size=\"10.00\">(1, 10) </text>\n",
       "</g>\n",
       "<!-- 7&#45;&gt;8 -->\n",
       "<g id=\"edge8\" class=\"edge\">\n",
       "<title>7&#45;&gt;8</title>\n",
       "<path fill=\"none\" stroke=\"black\" d=\"M194.5,-166.1C194.5,-158.32 194.5,-149.3 194.5,-140.76\"/>\n",
       "<polygon fill=\"black\" stroke=\"black\" points=\"198,-140.96 194.5,-130.96 191,-140.96 198,-140.96\"/>\n",
       "</g>\n",
       "<!-- 9 -->\n",
       "<g id=\"node10\" class=\"node\">\n",
       "<title>9</title>\n",
       "<polygon fill=\"lightyellow\" stroke=\"none\" points=\"248,-50 141,-50 141,-16 248,-16 248,-50\"/>\n",
       "<polygon fill=\"none\" stroke=\"black\" points=\"141,-16 141,-50 208.75,-50 208.75,-16 141,-16\"/>\n",
       "<text text-anchor=\"start\" x=\"146\" y=\"-35.5\" font-family=\"Linux libertine\" font-size=\"10.00\">output&#45;tensor</text>\n",
       "<text text-anchor=\"start\" x=\"158.38\" y=\"-23.5\" font-family=\"Linux libertine\" font-size=\"10.00\">depth:0</text>\n",
       "<polygon fill=\"none\" stroke=\"black\" points=\"208.75,-16 208.75,-50 248,-50 248,-16 208.75,-16\"/>\n",
       "<text text-anchor=\"start\" x=\"213.75\" y=\"-29.5\" font-family=\"Linux libertine\" font-size=\"10.00\">(1, 10)</text>\n",
       "</g>\n",
       "<!-- 8&#45;&gt;9 -->\n",
       "<g id=\"edge9\" class=\"edge\">\n",
       "<title>8&#45;&gt;9</title>\n",
       "<path fill=\"none\" stroke=\"black\" d=\"M194.5,-86.28C194.5,-78.28 194.5,-69.03 194.5,-60.55\"/>\n",
       "<polygon fill=\"black\" stroke=\"black\" points=\"198,-60.67 194.5,-50.67 191,-60.67 198,-60.67\"/>\n",
       "</g>\n",
       "</g>\n",
       "</svg>\n"
      ],
      "text/plain": [
       "<graphviz.graphs.Digraph at 0x13a45d5c610>"
      ]
     },
     "execution_count": 70,
     "metadata": {},
     "output_type": "execute_result"
    }
   ],
   "source": [
    "graph = draw_graph(model_LSTM, input_size=(1, 8, 2), expand_nested=True, save_graph=True, filename='model/LSTM_Model')\n",
    "graph.visual_graph"
   ]
  }
 ],
 "metadata": {
  "kernelspec": {
   "display_name": "pytorch",
   "language": "python",
   "name": "python3"
  },
  "language_info": {
   "codemirror_mode": {
    "name": "ipython",
    "version": 3
   },
   "file_extension": ".py",
   "mimetype": "text/x-python",
   "name": "python",
   "nbconvert_exporter": "python",
   "pygments_lexer": "ipython3",
   "version": "3.9.16"
  },
  "orig_nbformat": 4
 },
 "nbformat": 4,
 "nbformat_minor": 2
}
